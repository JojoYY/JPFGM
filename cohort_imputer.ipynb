{
 "cells": [
  {
   "cell_type": "code",
   "execution_count": 1,
   "metadata": {},
   "outputs": [],
   "source": [
    "# pandas and numpy for data manipulation\n",
    "import pandas as pd\n",
    "import numpy as np\n",
    "\n",
    "# matplotlib and seaborn for plotting\n",
    "import matplotlib.pyplot as plt\n",
    "import seaborn as sns\n",
    "\n",
    "# Suppress warnings from pandas\n",
    "import warnings\n",
    "warnings.filterwarnings('ignore')\n",
    "\n",
    "# Collection of helper functions for aggregation\n",
    "import featuregen.featuregeneration as fg\n",
    "\n",
    "from sklearn.linear_model import LinearRegression as LR \n",
    "# (fit_intercept=True, normalize=False, copy_X=True, n_jobs=1)\n",
    "\n",
    "plt.style.use('fivethirtyeight')\n",
    "\n",
    "# Memory management\n",
    "import gc \n",
    "\n",
    "% matplotlib inline "
   ]
  },
  {
   "cell_type": "markdown",
   "metadata": {},
   "source": [
    "## Load data\n",
    "##### (Note: `data/` subdirectory holds all input and output data)\n",
    "#### Specify:\n",
    "* input and output files\n",
    "* minimum TARGET correlation to consider\n",
    "* maximum acceptable fraction of NaNs in any column"
   ]
  },
  {
   "cell_type": "code",
   "execution_count": 2,
   "metadata": {},
   "outputs": [],
   "source": [
    "# Base filename\n",
    "filename = 'application_train'\n",
    "colPref = 'APP_TRAIN'\n",
    "corrThresh = 0.002\n",
    "colNApctThresh = .2\n",
    "filenameOtherThanApplication_train = filename != 'application_train'"
   ]
  },
  {
   "cell_type": "code",
   "execution_count": 3,
   "metadata": {},
   "outputs": [],
   "source": [
    "infile = 'data/'+filename+'.csv'\n",
    "outfile = \"data/\"+filename+\"_all_columns_imputed_by_category_cohort.csv\"\n",
    "goodTARGETcorrFile = \"data/\"+filename+\"high_corr_columns_imputed_by_category_cohort.csv\""
   ]
  },
  {
   "cell_type": "code",
   "execution_count": 4,
   "metadata": {},
   "outputs": [
    {
     "name": "stdout",
     "output_type": "stream",
     "text": [
      "Original Memory Usage: 0.3 gb.\n",
      "New Memory Usage: 0.17 gb.\n"
     ]
    }
   ],
   "source": [
    "try:\n",
    "    df is None\n",
    "except NameError:\n",
    "    df = pd.read_csv(infile)\n",
    "    df = fg.convert_types(df, print_info=True)"
   ]
  },
  {
   "cell_type": "markdown",
   "metadata": {},
   "source": [
    "#### We need `application_train` data set for the `TARGET` value"
   ]
  },
  {
   "cell_type": "code",
   "execution_count": 5,
   "metadata": {},
   "outputs": [],
   "source": [
    "if filenameOtherThanApplication_train:\n",
    "    try:\n",
    "        application_train is None\n",
    "    except NameError:\n",
    "        application_train = pd.read_csv('data/application_train.csv')\n",
    "        application_train = fg.convert_types(application_train, print_info=True)\n",
    "else:\n",
    "    application_train = df"
   ]
  },
  {
   "cell_type": "markdown",
   "metadata": {},
   "source": [
    "### Examine data\n",
    "#### Look at NaN counts in columns and choose columns to keep"
   ]
  },
  {
   "cell_type": "code",
   "execution_count": 6,
   "metadata": {},
   "outputs": [
    {
     "data": {
      "text/plain": [
       "Text(0,0.5,'Number of remaining columns')"
      ]
     },
     "execution_count": 6,
     "metadata": {},
     "output_type": "execute_result"
    },
    {
     "data": {
      "image/png": "[encoded data removed]",
      "text/plain": [
       "<Figure size 432x288 with 1 Axes>"
      ]
     },
     "metadata": {},
     "output_type": "display_data"
    }
   ],
   "source": [
    "largely_null_columns = df.isnull().sum() / df.isnull().count()\n",
    "x = [(1/len(largely_null_columns))* i for i,r in enumerate(largely_null_columns)]\n",
    "y = [(largely_null_columns < i).sum()  for i in x]\n",
    "plt.plot([100*xx for xx in x],y,'go')\n",
    "plt.xlabel(\"% Missing value acceptance threshold\")\n",
    "plt.ylabel(\"Number of remaining columns\")"
   ]
  },
  {
   "cell_type": "code",
   "execution_count": 7,
   "metadata": {},
   "outputs": [
    {
     "data": {
      "text/plain": [
       "Index(['SK_ID_CURR', 'TARGET', 'NAME_CONTRACT_TYPE', 'CODE_GENDER',\n",
       "       'FLAG_OWN_CAR', 'FLAG_OWN_REALTY', 'CNT_CHILDREN', 'AMT_INCOME_TOTAL',\n",
       "       'AMT_CREDIT', 'AMT_ANNUITY',\n",
       "       ...\n",
       "       'FLAG_DOCUMENT_18', 'FLAG_DOCUMENT_19', 'FLAG_DOCUMENT_20',\n",
       "       'FLAG_DOCUMENT_21', 'AMT_REQ_CREDIT_BUREAU_HOUR',\n",
       "       'AMT_REQ_CREDIT_BUREAU_DAY', 'AMT_REQ_CREDIT_BUREAU_WEEK',\n",
       "       'AMT_REQ_CREDIT_BUREAU_MON', 'AMT_REQ_CREDIT_BUREAU_QRT',\n",
       "       'AMT_REQ_CREDIT_BUREAU_YEAR'],\n",
       "      dtype='object', length=122)"
      ]
     },
     "execution_count": 7,
     "metadata": {},
     "output_type": "execute_result"
    }
   ],
   "source": [
    "df.columns"
   ]
  },
  {
   "cell_type": "code",
   "execution_count": 8,
   "metadata": {},
   "outputs": [],
   "source": [
    "df_reduced = df[[c for c in df.columns if df[c].isnull().sum()/df[c].isnull().count() < colNApctThresh ]]"
   ]
  },
  {
   "cell_type": "markdown",
   "metadata": {},
   "source": [
    "#### Number of columns dropped"
   ]
  },
  {
   "cell_type": "code",
   "execution_count": 12,
   "metadata": {},
   "outputs": [
    {
     "data": {
      "text/plain": [
       "50"
      ]
     },
     "execution_count": 12,
     "metadata": {},
     "output_type": "execute_result"
    }
   ],
   "source": [
    "\n",
    "len(df.columns) - len(df_reduced.columns)"
   ]
  },
  {
   "cell_type": "markdown",
   "metadata": {},
   "source": [
    "#### If you want to drop the 'largely NaN' columns, then use `df_reduced` instead of `df` in what follows."
   ]
  },
  {
   "cell_type": "markdown",
   "metadata": {},
   "source": [
    "## One-hot encode categorical columns\n",
    "#### Create column with categorical cohort vector, 'UNIQ_FEAT_COMB'  for subsequent NaN imputation"
   ]
  },
  {
   "cell_type": "code",
   "execution_count": 13,
   "metadata": {},
   "outputs": [],
   "source": [
    "df_dum = pd.get_dummies(df_reduced.select_dtypes('category'))\n",
    "df_dum[\"UNIQ_FEAT_COMB\"] = [\"\".join([str(rr) for rr in r]) for r in df_dum.values]"
   ]
  },
  {
   "cell_type": "code",
   "execution_count": 14,
   "metadata": {},
   "outputs": [
    {
     "data": {
      "text/plain": [
       "(307511, 107)"
      ]
     },
     "execution_count": 14,
     "metadata": {},
     "output_type": "execute_result"
    }
   ],
   "source": [
    "df_dum.shape"
   ]
  },
  {
   "cell_type": "code",
   "execution_count": 15,
   "metadata": {},
   "outputs": [
    {
     "data": {
      "text/plain": [
       "Index(['NAME_CONTRACT_TYPE_Cash loans', 'NAME_CONTRACT_TYPE_Revolving loans',\n",
       "       'CODE_GENDER_F', 'CODE_GENDER_M', 'CODE_GENDER_XNA', 'FLAG_OWN_CAR_N',\n",
       "       'FLAG_OWN_CAR_Y', 'FLAG_OWN_REALTY_N', 'FLAG_OWN_REALTY_Y',\n",
       "       'NAME_TYPE_SUITE_Children',\n",
       "       ...\n",
       "       'ORGANIZATION_TYPE_Trade: type 5', 'ORGANIZATION_TYPE_Trade: type 6',\n",
       "       'ORGANIZATION_TYPE_Trade: type 7',\n",
       "       'ORGANIZATION_TYPE_Transport: type 1',\n",
       "       'ORGANIZATION_TYPE_Transport: type 2',\n",
       "       'ORGANIZATION_TYPE_Transport: type 3',\n",
       "       'ORGANIZATION_TYPE_Transport: type 4', 'ORGANIZATION_TYPE_University',\n",
       "       'ORGANIZATION_TYPE_XNA', 'UNIQ_FEAT_COMB'],\n",
       "      dtype='object', length=107)"
      ]
     },
     "execution_count": 15,
     "metadata": {},
     "output_type": "execute_result"
    }
   ],
   "source": [
    "df_dum.columns"
   ]
  },
  {
   "cell_type": "markdown",
   "metadata": {},
   "source": [
    "#### Add the numeric columns back into the datafraame"
   ]
  },
  {
   "cell_type": "code",
   "execution_count": 16,
   "metadata": {},
   "outputs": [],
   "source": [
    "df_num_and_dum = pd.concat([df.select_dtypes(\"number\"),df_dum],axis=1)"
   ]
  },
  {
   "cell_type": "markdown",
   "metadata": {},
   "source": [
    "#### Save the dataframe with dummies"
   ]
  },
  {
   "cell_type": "code",
   "execution_count": null,
   "metadata": {},
   "outputs": [],
   "source": [
    "df_num_and_dum.to_csv(\"data/\"+filename+\"_df_num_and_dum.csv\")"
   ]
  },
  {
   "cell_type": "code",
   "execution_count": null,
   "metadata": {},
   "outputs": [],
   "source": [
    "try:\n",
    "    df_num_and_dum is None\n",
    "except NameError:\n",
    "    df_num_and_dum = pd.read_csv(\"data/\"+filename+\"_df_num_and_dum.csv\")"
   ]
  },
  {
   "cell_type": "code",
   "execution_count": null,
   "metadata": {},
   "outputs": [],
   "source": [
    "df_num_and_dum.columns"
   ]
  },
  {
   "cell_type": "markdown",
   "metadata": {},
   "source": [
    "## Impute NaNs by categorical cohort\n",
    "#### Get the numeric columns, and omit the ID columns"
   ]
  },
  {
   "cell_type": "code",
   "execution_count": null,
   "metadata": {},
   "outputs": [],
   "source": [
    "nonIDcols = [cc for cc in df.select_dtypes(\"number\").columns if not \"SK\" in cc and not \"TARGET\" in cc]\n",
    "nonIDcols"
   ]
  },
  {
   "cell_type": "markdown",
   "metadata": {},
   "source": [
    "#### Group by identical categorical cohort and impute NaNs within group\n",
    "##### (Thank you, JPFGM team!)"
   ]
  },
  {
   "cell_type": "code",
   "execution_count": null,
   "metadata": {},
   "outputs": [],
   "source": [
    "df_num_and_dum[nonIDcols] = df_num_and_dum[nonIDcols+['UNIQ_FEAT_COMB']].groupby(\"UNIQ_FEAT_COMB\").transform(lambda x:x.fillna(x.mean()))\n",
    "df_num_and_dum.head()"
   ]
  },
  {
   "cell_type": "code",
   "execution_count": null,
   "metadata": {},
   "outputs": [],
   "source": [
    "df_num_and_dum.columns"
   ]
  },
  {
   "cell_type": "markdown",
   "metadata": {},
   "source": [
    "## Generate the aggregated features\n",
    "#### Group by `SK_ID_CURR`...\n",
    "#### ...Aggregate...\n",
    "#### ...Flatten the column names and make them upper case"
   ]
  },
  {
   "cell_type": "code",
   "execution_count": null,
   "metadata": {},
   "outputs": [],
   "source": [
    "df_agg_num_and_dum = df_num_and_dum[nonIDcols+[\"SK_ID_CURR\"]].groupby(\"SK_ID_CURR\").agg([\"size\",\"mean\",\"min\",\"max\"])\n",
    "df_agg_num_and_dum.columns = ['_'.join(c).upper() for c in df_agg_num_and_dum.columns]"
   ]
  },
  {
   "cell_type": "markdown",
   "metadata": {},
   "source": [
    "#### Append all the application_train columns.  \n",
    "If you are using  `application_train`  in the first place, then just append the `TARGET` column.\n"
   ]
  },
  {
   "cell_type": "code",
   "execution_count": null,
   "metadata": {},
   "outputs": [],
   "source": [
    "if filenameOtherThanApplication_train:\n",
    "    df_agg_target = application_train.join(df_agg_num_and_dum, how='left', on=\"SK_ID_CURR\")\n",
    "else:\n",
    "    df_agg_target[\"TARGET\"] = application_train[\"TARGET\"]"
   ]
  },
  {
   "cell_type": "code",
   "execution_count": null,
   "metadata": {},
   "outputs": [],
   "source": [
    "\"TARGET\" in df_agg_target.columns"
   ]
  },
  {
   "cell_type": "code",
   "execution_count": null,
   "metadata": {},
   "outputs": [],
   "source": [
    "df_agg_target.shape"
   ]
  },
  {
   "cell_type": "markdown",
   "metadata": {},
   "source": [
    "#### Save the imputed data set"
   ]
  },
  {
   "cell_type": "code",
   "execution_count": null,
   "metadata": {},
   "outputs": [],
   "source": [
    "df_agg_target.to_csv(outfile)"
   ]
  },
  {
   "cell_type": "markdown",
   "metadata": {},
   "source": [
    "## Further analysis\n",
    "#### Remind ourselves of class imbalance...."
   ]
  },
  {
   "cell_type": "code",
   "execution_count": null,
   "metadata": {},
   "outputs": [],
   "source": [
    "df_agg_target[\"TARGET\"].hist()"
   ]
  },
  {
   "cell_type": "markdown",
   "metadata": {},
   "source": [
    "#### Select columns based on threshold for correlation to TARGET"
   ]
  },
  {
   "cell_type": "code",
   "execution_count": null,
   "metadata": {},
   "outputs": [],
   "source": [
    "corrs = df_agg_target.corr()[\"TARGET\"].sort_values()\n",
    "maxPosCor = corrs.tail(10)\n",
    "maxNegCor = corrs.head(10)\n",
    "corrCols = maxNegCor.to_frame().append(maxPosCor.to_frame()).query(\"TARGET > @corrThresh or TARGET < -@corrThresh \").index\n",
    "corrCols = list(corrCols)\n",
    "df_corrCols_bool = [c in corrCols for c in df_agg_target.columns]\n",
    "df_corrCols = df_agg_target.columns[df_corrCols_bool]\n",
    "df_corrCols"
   ]
  },
  {
   "cell_type": "code",
   "execution_count": null,
   "metadata": {},
   "outputs": [],
   "source": [
    "df_agg_target_corr = df_agg_target[df_corrCols]\n",
    "df_agg_target_corr.shape"
   ]
  },
  {
   "cell_type": "markdown",
   "metadata": {},
   "source": [
    "#### Final columns with sufficient correlation to `TARGET`"
   ]
  },
  {
   "cell_type": "code",
   "execution_count": null,
   "metadata": {},
   "outputs": [],
   "source": [
    "goodCorrCols = [c for c in  df_agg_target_corr.columns if not c in [\"TARGET\"]]\n",
    "goodCorrCols"
   ]
  },
  {
   "cell_type": "code",
   "execution_count": null,
   "metadata": {},
   "outputs": [],
   "source": [
    "len(goodCorrCols)"
   ]
  },
  {
   "cell_type": "markdown",
   "metadata": {},
   "source": [
    "#### Examine density functions"
   ]
  },
  {
   "cell_type": "code",
   "execution_count": null,
   "metadata": {},
   "outputs": [],
   "source": [
    "for c in goodCorrCols:\n",
    "    fg.kde_target(c, df_agg_target_corr)"
   ]
  },
  {
   "cell_type": "markdown",
   "metadata": {},
   "source": [
    "### Save file with columns having acceptable correlation to `TARGET`"
   ]
  },
  {
   "cell_type": "code",
   "execution_count": null,
   "metadata": {},
   "outputs": [],
   "source": [
    "df_agg_target_corr.to_csv(goodTARGETcorrFile)"
   ]
  },
  {
   "cell_type": "code",
   "execution_count": null,
   "metadata": {},
   "outputs": [],
   "source": []
  },
  {
   "cell_type": "code",
   "execution_count": null,
   "metadata": {},
   "outputs": [],
   "source": []
  },
  {
   "cell_type": "code",
   "execution_count": null,
   "metadata": {},
   "outputs": [],
   "source": []
  },
  {
   "cell_type": "code",
   "execution_count": null,
   "metadata": {},
   "outputs": [],
   "source": []
  }
 ],
 "metadata": {
  "kernelspec": {
   "display_name": "Python 3",
   "language": "python",
   "name": "python3"
  },
  "language_info": {
   "codemirror_mode": {
    "name": "ipython",
    "version": 3
   },
   "file_extension": ".py",
   "mimetype": "text/x-python",
   "name": "python",
   "nbconvert_exporter": "python",
   "pygments_lexer": "ipython3",
   "version": "3.6.5"
  }
 },
 "nbformat": 4,
 "nbformat_minor": 2
}
