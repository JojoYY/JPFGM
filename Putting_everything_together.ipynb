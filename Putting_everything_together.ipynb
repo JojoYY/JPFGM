{
 "cells": [
  {
   "cell_type": "markdown",
   "metadata": {},
   "source": [
    "# Putting everything together\n",
    "This notebook\n",
    "- preprocesses all the various data sources, including cleaning and feature engineering\n",
    "- combines all the data sources\n",
    "- trains and tunes a lightGBM model\n",
    "\n",
    "To run on your local machine, please set `path_to_kaggle_data` below to the folder with all the raw data files"
   ]
  },
  {
   "cell_type": "markdown",
   "metadata": {},
   "source": [
    "## Libraries and Settings"
   ]
  },
  {
   "cell_type": "code",
   "execution_count": 1,
   "metadata": {},
   "outputs": [],
   "source": [
    "# To the user: specify location of the unzipped data files on local machine\n",
    "path_to_kaggle_data='/home/johanna/kaggle_JPFGM/Data'"
   ]
  },
  {
   "cell_type": "code",
   "execution_count": 2,
   "metadata": {},
   "outputs": [],
   "source": [
    "import numpy as np\n",
    "import pandas as pd\n",
    "import gc\n",
    "import time\n",
    "from contextlib import contextmanager\n",
    "from lightgbm import LGBMClassifier\n",
    "from sklearn.metrics import roc_auc_score, roc_curve\n",
    "from sklearn.model_selection import KFold, StratifiedKFold\n",
    "import matplotlib.pyplot as plt\n",
    "import seaborn as sns\n",
    "import warnings\n",
    "warnings.simplefilter(action='ignore', category=FutureWarning)"
   ]
  },
  {
   "cell_type": "code",
   "execution_count": 3,
   "metadata": {},
   "outputs": [],
   "source": [
    "@contextmanager\n",
    "def timer(title):\n",
    "    t0 = time.time()\n",
    "    yield\n",
    "    print(\"{} - done in {:.0f}s\".format(title, time.time() - t0))"
   ]
  },
  {
   "cell_type": "markdown",
   "metadata": {},
   "source": [
    "## Functions for pre-processing the different data sets"
   ]
  },
  {
   "cell_type": "markdown",
   "metadata": {},
   "source": [
    "### Overview of data sources\n",
    "- **application_{train|test}.csv (307511 x 122)** :  Static data for all applications. One row = one loan application (not necessarily one person!).\n",
    "    - type of loan (e.g. contract_type, credit amount, annuity). *probably important*\n",
    "    - external credit scores *probably important*\n",
    "    - other loan application information (e.g. day of week, time of day). *probably not important*\n",
    "    - applicant income (e.g. income_total, income_type).  *probably important*\n",
    "    - employment history (days_employed, ID change, occupation, organization typer). *probably important*\n",
    "    - demographic information (gender, education, family status and members, housing situation, region of residence and rating, age)  *probably important*\n",
    "    - other ownership information (car, home, phone).  *probably important*\n",
    "    - lots of details about buiding of residence. *likely lots of redundant information and missing values*\n",
    "    - verification info (e.g. provided email, contact address match, documents provided)  *probably important, for fraud*\n",
    "    - number of enquiries to credit bureau  *probably important, as a measure of desperation*\n",
    "    - social circle default  *probably important*\n",
    "- "
   ]
  },
  {
   "cell_type": "code",
   "execution_count": 4,
   "metadata": {},
   "outputs": [],
   "source": [
    "# One-hot encoding for categorical columns with get_dummies\n",
    "def one_hot_encoder(df, nan_as_category = True):\n",
    "    original_columns = list(df.columns)\n",
    "    categorical_columns = [col for col in df.columns if df[col].dtype == 'object']\n",
    "    df = pd.get_dummies(df, columns= categorical_columns, dummy_na= nan_as_category)\n",
    "    new_columns = [c for c in df.columns if c not in original_columns]\n",
    "    return df, new_columns"
   ]
  },
  {
   "cell_type": "code",
   "execution_count": 5,
   "metadata": {},
   "outputs": [],
   "source": [
    "def application_train_test(path_to_kaggle_data, num_rows = None, nan_as_category = False):\n",
    "    \"\"\"Preprocess application_train.csv and application_test.csv.\n",
    "    \n",
    "    Remove ineligible observations, encode categorical features, replace outliers and\n",
    "    create new features.\n",
    "    \"\"\"\n",
    "    # Read data and merge\n",
    "    df = pd.read_csv(path_to_kaggle_data + '/application_train.csv', nrows= num_rows)\n",
    "    test_df = pd.read_csv(path_to_kaggle_data + '/application_test.csv', nrows= num_rows)\n",
    "    print(\"Train samples: {}, test samples: {}\".format(len(df), len(test_df)))\n",
    "    df = df.append(test_df).reset_index()\n",
    "    # Optional: Remove 4 applications with XNA CODE_GENDER (train set)\n",
    "    df = df[df['CODE_GENDER'] != 'XNA']\n",
    "    \n",
    "    # Categorical features with Binary encode (0 or 1; two categories)\n",
    "    for bin_feature in ['CODE_GENDER', 'FLAG_OWN_CAR', 'FLAG_OWN_REALTY']:\n",
    "        df[bin_feature], uniques = pd.factorize(df[bin_feature])\n",
    "    # Categorical features with One-Hot encode\n",
    "    df, cat_cols = one_hot_encoder(df, nan_as_category)\n",
    "    \n",
    "    # NaN values for DAYS_EMPLOYED: 365.243 -> nan\n",
    "    df['DAYS_EMPLOYED'].replace(365243, np.nan, inplace= True)\n",
    "    # Some simple new features (percentages)\n",
    "    df['DAYS_EMPLOYED_PERC'] = df['DAYS_EMPLOYED'] / df['DAYS_BIRTH']\n",
    "    df['INCOME_CREDIT_PERC'] = df['AMT_INCOME_TOTAL'] / df['AMT_CREDIT']\n",
    "    df['INCOME_PER_PERSON'] = df['AMT_INCOME_TOTAL'] / df['CNT_FAM_MEMBERS']\n",
    "    df['ANNUITY_INCOME_PERC'] = df['AMT_ANNUITY'] / df['AMT_INCOME_TOTAL']\n",
    "    df['PAYMENT_RATE'] = df['AMT_ANNUITY'] / df['AMT_CREDIT']\n",
    "    del test_df\n",
    "    gc.collect()\n",
    "    return df"
   ]
  },
  {
   "cell_type": "code",
   "execution_count": 6,
   "metadata": {},
   "outputs": [],
   "source": [
    "def bureau_and_balance(path_to_kaggle_data, num_rows = None, nan_as_category = True):\n",
    "    \"\"\"Preprocess bureau.csv and bureau_balance.csv.\n",
    "    \n",
    "    Encode categorical features, aggregates bureau_balance data\n",
    "    \"\"\"\n",
    "    bureau = pd.read_csv(path_to_kaggle_data + '/bureau.csv', nrows = num_rows)\n",
    "    bb = pd.read_csv(path_to_kaggle_data + '/bureau_balance.csv', nrows = num_rows)\n",
    "    bb, bb_cat = one_hot_encoder(bb, nan_as_category)\n",
    "    bureau, bureau_cat = one_hot_encoder(bureau, nan_as_category)\n",
    "    \n",
    "    # Bureau balance: Perform aggregations and merge with bureau.csv\n",
    "    bb_aggregations = {'MONTHS_BALANCE': ['min', 'max', 'size']}\n",
    "    for col in bb_cat:\n",
    "        bb_aggregations[col] = ['mean']\n",
    "    bb_agg = bb.groupby('SK_ID_BUREAU').agg(bb_aggregations)\n",
    "    bb_agg.columns = pd.Index([e[0] + \"_\" + e[1].upper() for e in bb_agg.columns.tolist()])\n",
    "    bureau = bureau.join(bb_agg, how='left', on='SK_ID_BUREAU')\n",
    "    bureau.drop(['SK_ID_BUREAU'], axis=1, inplace= True)\n",
    "    del bb, bb_agg\n",
    "    gc.collect()\n",
    "    \n",
    "    # Bureau and bureau_balance numeric features\n",
    "    num_aggregations = {\n",
    "        'DAYS_CREDIT': ['min', 'max', 'mean', 'var'],\n",
    "        'DAYS_CREDIT_ENDDATE': ['min', 'max', 'mean'],\n",
    "        'DAYS_CREDIT_UPDATE': ['mean'],\n",
    "        'CREDIT_DAY_OVERDUE': ['max', 'mean'],\n",
    "        'AMT_CREDIT_MAX_OVERDUE': ['mean'],\n",
    "        'AMT_CREDIT_SUM': ['max', 'mean', 'sum'],\n",
    "        'AMT_CREDIT_SUM_DEBT': ['max', 'mean', 'sum'],\n",
    "        'AMT_CREDIT_SUM_OVERDUE': ['mean'],\n",
    "        'AMT_CREDIT_SUM_LIMIT': ['mean', 'sum'],\n",
    "        'AMT_ANNUITY': ['max', 'mean'],\n",
    "        'CNT_CREDIT_PROLONG': ['sum'],\n",
    "        'MONTHS_BALANCE_MIN': ['min'],\n",
    "        'MONTHS_BALANCE_MAX': ['max'],\n",
    "        'MONTHS_BALANCE_SIZE': ['mean', 'sum']\n",
    "    }\n",
    "    # Bureau and bureau_balance categorical features\n",
    "    cat_aggregations = {}\n",
    "    for cat in bureau_cat: cat_aggregations[cat] = ['mean']\n",
    "    for cat in bb_cat: cat_aggregations[cat + \"_MEAN\"] = ['mean']\n",
    "    \n",
    "    bureau_agg = bureau.groupby('SK_ID_CURR').agg({**num_aggregations, **cat_aggregations})\n",
    "    bureau_agg.columns = pd.Index(['BURO_' + e[0] + \"_\" + e[1].upper() for e in bureau_agg.columns.tolist()])\n",
    "    \n",
    "    # Bureau: Active credits - using only numerical aggregations\n",
    "    active = bureau[bureau['CREDIT_ACTIVE_Active'] == 1]\n",
    "    active_agg = active.groupby('SK_ID_CURR').agg(num_aggregations)\n",
    "    active_agg.columns = pd.Index(['ACTIVE_' + e[0] + \"_\" + e[1].upper() for e in active_agg.columns.tolist()])\n",
    "    \n",
    "    # bureau_agg = bureau_agg.join(active_agg, how='left', on='SK_ID_CURR')  # generates error\n",
    "    bureau_agg = bureau_agg.join(active_agg, how='left')  # fix: dataframe.join uses index, do not specify column nane\n",
    "    del active, active_agg\n",
    "    gc.collect()\n",
    "    # Bureau: Closed credits - using only numerical aggregations\n",
    "    closed = bureau[bureau['CREDIT_ACTIVE_Closed'] == 1]\n",
    "    closed_agg = closed.groupby('SK_ID_CURR').agg(num_aggregations)\n",
    "    closed_agg.columns = pd.Index(['CLOSED_' + e[0] + \"_\" + e[1].upper() for e in closed_agg.columns.tolist()])\n",
    "    # bureau_agg = bureau_agg.join(closed_agg, how='left', on='SK_ID_CURR')  # generates error\n",
    "    bureau_agg = bureau_agg.join(closed_agg, how='left')  # fix\n",
    "    del closed, closed_agg, bureau\n",
    "    gc.collect()\n",
    "    return bureau_agg"
   ]
  },
  {
   "cell_type": "code",
   "execution_count": 7,
   "metadata": {},
   "outputs": [],
   "source": [
    "def previous_applications(path_to_kaggle_data, num_rows = None, nan_as_category = True):\n",
    "    \"\"\"Preprocess previous_applications.csv.\n",
    "    \n",
    "    Impute missing data and aggregate previous_applications.csv\n",
    "    \"\"\"\n",
    "    prev = pd.read_csv(path_to_kaggle_data + '/previous_application.csv', nrows = num_rows)\n",
    "    prev, cat_cols = one_hot_encoder(prev, nan_as_category= True)\n",
    "    # Days 365.243 values -> nan\n",
    "    prev['DAYS_FIRST_DRAWING'].replace(365243, np.nan, inplace= True)\n",
    "    prev['DAYS_FIRST_DUE'].replace(365243, np.nan, inplace= True)\n",
    "    prev['DAYS_LAST_DUE_1ST_VERSION'].replace(365243, np.nan, inplace= True)\n",
    "    prev['DAYS_LAST_DUE'].replace(365243, np.nan, inplace= True)\n",
    "    prev['DAYS_TERMINATION'].replace(365243, np.nan, inplace= True)\n",
    "    # Add feature: value ask / value received percentage\n",
    "    prev['APP_CREDIT_PERC'] = prev['AMT_APPLICATION'] / prev['AMT_CREDIT']\n",
    "    # Previous applications numeric features\n",
    "    num_aggregations = {\n",
    "        'AMT_ANNUITY': ['min', 'max', 'mean'],\n",
    "        'AMT_APPLICATION': ['min', 'max', 'mean'],\n",
    "        'AMT_CREDIT': ['min', 'max', 'mean'],\n",
    "        'APP_CREDIT_PERC': ['min', 'max', 'mean', 'var'],\n",
    "        'AMT_DOWN_PAYMENT': ['min', 'max', 'mean'],\n",
    "        'AMT_GOODS_PRICE': ['min', 'max', 'mean'],\n",
    "        'HOUR_APPR_PROCESS_START': ['min', 'max', 'mean'],\n",
    "        'RATE_DOWN_PAYMENT': ['min', 'max', 'mean'],\n",
    "        'DAYS_DECISION': ['min', 'max', 'mean'],\n",
    "        'CNT_PAYMENT': ['mean', 'sum'],\n",
    "    }\n",
    "    # Previous applications categorical features\n",
    "    cat_aggregations = {}\n",
    "    for cat in cat_cols:\n",
    "        cat_aggregations[cat] = ['mean']\n",
    "    \n",
    "    prev_agg = prev.groupby('SK_ID_CURR').agg({**num_aggregations, **cat_aggregations})\n",
    "    prev_agg.columns = pd.Index(['PREV_' + e[0] + \"_\" + e[1].upper() for e in prev_agg.columns.tolist()])\n",
    "    # Previous Applications: Approved Applications - only numerical features\n",
    "    approved = prev[prev['NAME_CONTRACT_STATUS_Approved'] == 1]\n",
    "    approved_agg = approved.groupby('SK_ID_CURR').agg(num_aggregations)\n",
    "    approved_agg.columns = pd.Index(['APPROVED_' + e[0] + \"_\" + e[1].upper() for e in approved_agg.columns.tolist()])\n",
    "    \n",
    "    # prev_agg = prev_agg.join(approved_agg, how='left', on='SK_ID_CURR') # error\n",
    "    prev_agg = prev_agg.join(approved_agg, how='left')  # fix\n",
    "    # Previous Applications: Refused Applications - only numerical features\n",
    "    refused = prev[prev['NAME_CONTRACT_STATUS_Refused'] == 1]\n",
    "    refused_agg = refused.groupby('SK_ID_CURR').agg(num_aggregations)\n",
    "    refused_agg.columns = pd.Index(['REFUSED_' + e[0] + \"_\" + e[1].upper() for e in refused_agg.columns.tolist()])\n",
    "    # prev_agg = prev_agg.join(refused_agg, how='left', on='SK_ID_CURR')  # error\n",
    "    prev_agg = prev_agg.join(refused_agg, how='left')\n",
    "    del refused, refused_agg, approved, approved_agg, prev\n",
    "    gc.collect()\n",
    "    return prev_agg"
   ]
  },
  {
   "cell_type": "code",
   "execution_count": 8,
   "metadata": {},
   "outputs": [],
   "source": [
    "def pos_cash(path_to_kaggle_data, num_rows = None, nan_as_category = True):\n",
    "    \"\"\"Preprocess POS_CASH_balance.csv.\n",
    "    \n",
    "    Encodes categorical features and aggregates POS_CASH_balance.csv\n",
    "    \"\"\"\n",
    "    pos = pd.read_csv(path_to_kaggle_data + '/POS_CASH_balance.csv', nrows = num_rows)\n",
    "    pos, cat_cols = one_hot_encoder(pos, nan_as_category= True)\n",
    "    # Features\n",
    "    aggregations = {\n",
    "        'MONTHS_BALANCE': ['max', 'mean', 'size'],\n",
    "        'SK_DPD': ['max', 'mean'],\n",
    "        'SK_DPD_DEF': ['max', 'mean']\n",
    "    }\n",
    "    for cat in cat_cols:\n",
    "        aggregations[cat] = ['mean']\n",
    "    \n",
    "    pos_agg = pos.groupby('SK_ID_CURR').agg(aggregations)\n",
    "    pos_agg.columns = pd.Index(['POS_' + e[0] + \"_\" + e[1].upper() for e in pos_agg.columns.tolist()])\n",
    "    # Count pos cash accounts\n",
    "    pos_agg['POS_COUNT'] = pos.groupby('SK_ID_CURR').size()\n",
    "    del pos\n",
    "    gc.collect()\n",
    "    return pos_agg"
   ]
  },
  {
   "cell_type": "code",
   "execution_count": 9,
   "metadata": {},
   "outputs": [],
   "source": [
    "def installments_payments(path_to_kaggle_data, num_rows = None, nan_as_category = True):\n",
    "    \"\"\"Preprocess installments_payments.csv.\n",
    "    \n",
    "    Encodes categorical features, creates new features and aggregates installments_payments.csv\n",
    "    \"\"\"\n",
    "    ins = pd.read_csv(path_to_kaggle_data + '/installments_payments.csv', nrows = num_rows)\n",
    "    ins, cat_cols = one_hot_encoder(ins, nan_as_category= True)\n",
    "    # Percentage and difference paid in each installment (amount paid and installment value)\n",
    "    ins['PAYMENT_PERC'] = ins['AMT_PAYMENT'] / ins['AMT_INSTALMENT']\n",
    "    ins['PAYMENT_DIFF'] = ins['AMT_INSTALMENT'] - ins['AMT_PAYMENT']\n",
    "    # Days past due and days before due (no negative values)\n",
    "    ins['DPD'] = ins['DAYS_ENTRY_PAYMENT'] - ins['DAYS_INSTALMENT']\n",
    "    ins['DBD'] = ins['DAYS_INSTALMENT'] - ins['DAYS_ENTRY_PAYMENT']\n",
    "    ins['DPD'] = ins['DPD'].apply(lambda x: x if x > 0 else 0)\n",
    "    ins['DBD'] = ins['DBD'].apply(lambda x: x if x > 0 else 0)\n",
    "    # Features: Perform aggregations\n",
    "    aggregations = {\n",
    "        'NUM_INSTALMENT_VERSION': ['nunique'],\n",
    "        'DPD': ['max', 'mean', 'sum'],\n",
    "        'DBD': ['max', 'mean', 'sum'],\n",
    "        'PAYMENT_PERC': ['max', 'mean', 'sum', 'var'],\n",
    "        'PAYMENT_DIFF': ['max', 'mean', 'sum', 'var'],\n",
    "        'AMT_INSTALMENT': ['max', 'mean', 'sum'],\n",
    "        'AMT_PAYMENT': ['min', 'max', 'mean', 'sum'],\n",
    "        'DAYS_ENTRY_PAYMENT': ['max', 'mean', 'sum']\n",
    "    }\n",
    "    for cat in cat_cols:\n",
    "        aggregations[cat] = ['mean']\n",
    "    ins_agg = ins.groupby('SK_ID_CURR').agg(aggregations)\n",
    "    ins_agg.columns = pd.Index(['INSTAL_' + e[0] + \"_\" + e[1].upper() for e in ins_agg.columns.tolist()])\n",
    "    # Count installments accounts\n",
    "    ins_agg['INSTAL_COUNT'] = ins.groupby('SK_ID_CURR').size()\n",
    "    del ins\n",
    "    gc.collect()\n",
    "    return ins_agg"
   ]
  },
  {
   "cell_type": "code",
   "execution_count": 10,
   "metadata": {},
   "outputs": [],
   "source": [
    "def credit_card_balance(path_to_kaggle_data, num_rows = None, nan_as_category = True):\n",
    "    \"\"\"Preprocess credit_card_balance.csv.\n",
    "    \n",
    "    Encodes categorical features and aggregates credit_card_balance.csv\n",
    "    \"\"\"\n",
    "    cc = pd.read_csv(path_to_kaggle_data + '/credit_card_balance.csv', nrows = num_rows)\n",
    "    cc, cat_cols = one_hot_encoder(cc, nan_as_category= True)\n",
    "    # General aggregations\n",
    "    cc.drop(['SK_ID_PREV'], axis= 1, inplace = True)\n",
    "    cc_agg = cc.groupby('SK_ID_CURR').agg(['min', 'max', 'mean', 'sum', 'var'])\n",
    "    cc_agg.columns = pd.Index(['CC_' + e[0] + \"_\" + e[1].upper() for e in cc_agg.columns.tolist()])\n",
    "    # Count credit card lines\n",
    "    cc_agg['CC_COUNT'] = cc.groupby('SK_ID_CURR').size()\n",
    "    del cc\n",
    "    gc.collect()\n",
    "    return cc_agg"
   ]
  },
  {
   "cell_type": "code",
   "execution_count": 11,
   "metadata": {},
   "outputs": [],
   "source": [
    "def feature_prepare(debug = False):\n",
    "    \"\"\"Pre-process all the separate data sets and join them.\"\"\"\n",
    "    num_rows = 10000 if debug else None\n",
    "    df = application_train_test(path_to_kaggle_data, num_rows)\n",
    "    \n",
    "    with timer(\"Process bureau and bureau_balance\"):\n",
    "        bureau = bureau_and_balance(path_to_kaggle_data, num_rows)\n",
    "        print(\"Bureau df shape:\", bureau.shape)\n",
    "        df = df.join(bureau, how='left', on='SK_ID_CURR')\n",
    "        del bureau\n",
    "        gc.collect()\n",
    "    with timer(\"Process previous_applications\"):\n",
    "        prev = previous_applications(path_to_kaggle_data, num_rows)\n",
    "        print(\"Previous applications df shape:\", prev.shape)\n",
    "        df = df.join(prev, how='left', on='SK_ID_CURR')\n",
    "        del prev\n",
    "        gc.collect()\n",
    "    with timer(\"Process POS-CASH balance\"):\n",
    "        pos = pos_cash(path_to_kaggle_data, num_rows)\n",
    "        print(\"Pos-cash balance df shape:\", pos.shape)\n",
    "        df = df.join(pos, how='left', on='SK_ID_CURR')\n",
    "        del pos\n",
    "        gc.collect()\n",
    "    with timer(\"Process installments payments\"):\n",
    "        ins = installments_payments(path_to_kaggle_data, num_rows)\n",
    "        print(\"Installments payments df shape:\", ins.shape)\n",
    "        df = df.join(ins, how='left', on='SK_ID_CURR')\n",
    "        del ins\n",
    "        gc.collect()\n",
    "    with timer(\"Process credit card balance\"):\n",
    "        cc = credit_card_balance(path_to_kaggle_data, num_rows)\n",
    "        print(\"Credit card balance df shape:\", cc.shape)\n",
    "        df = df.join(cc, how='left', on='SK_ID_CURR')\n",
    "        del cc\n",
    "        gc.collect()\n",
    "    return df"
   ]
  },
  {
   "cell_type": "markdown",
   "metadata": {},
   "source": [
    "## Model definition"
   ]
  },
  {
   "cell_type": "code",
   "execution_count": 12,
   "metadata": {},
   "outputs": [],
   "source": [
    "def kfold_lightgbm(train_df, test_df, num_folds, stratified = False, debug= False):\n",
    "    \"\"\"LightGBM GBDT with KFold or Stratified KFold.\n",
    "    \n",
    "    Parameters from Tilii kernel: https://www.kaggle.com/tilii7/olivier-lightgbm-parameters-by-bayesian-opt/code\n",
    "    \"\"\"\n",
    "    print(\"Starting LightGBM. Train shape: {}, test shape: {}\".format(train_df.shape, test_df.shape))\n",
    "    gc.collect()\n",
    "    # Cross validation model\n",
    "    if stratified:\n",
    "        folds = StratifiedKFold(n_splits= num_folds, shuffle=True, random_state=1001)\n",
    "    else:\n",
    "        folds = KFold(n_splits= num_folds, shuffle=True, random_state=1001)\n",
    "    # Create arrays and dataframes to store results\n",
    "    oof_preds = np.zeros(train_df.shape[0])\n",
    "    sub_preds = np.zeros(test_df.shape[0])\n",
    "    feature_importance_df = pd.DataFrame()\n",
    "    feats = [f for f in train_df.columns if f not in ['TARGET','SK_ID_CURR','SK_ID_BUREAU','SK_ID_PREV','index']]\n",
    "    \n",
    "    for n_fold, (train_idx, valid_idx) in enumerate(folds.split(train_df[feats], train_df['TARGET'])):\n",
    "        train_x, train_y = train_df[feats].iloc[train_idx], train_df['TARGET'].iloc[train_idx]\n",
    "        valid_x, valid_y = train_df[feats].iloc[valid_idx], train_df['TARGET'].iloc[valid_idx]\n",
    "\n",
    "        # LightGBM parameters found by Bayesian optimization\n",
    "        clf = LGBMClassifier(\n",
    "            nthread=4,\n",
    "            n_estimators=10000,\n",
    "            learning_rate=0.02,\n",
    "            num_leaves=34,\n",
    "            colsample_bytree=0.9497036,\n",
    "            subsample=0.8715623,\n",
    "            max_depth=8,\n",
    "            reg_alpha=0.041545473,\n",
    "            reg_lambda=0.0735294,\n",
    "            min_split_gain=0.0222415,\n",
    "            min_child_weight=39.3259775,\n",
    "            silent=-1,\n",
    "            verbose=-1, )\n",
    "\n",
    "        clf.fit(train_x, train_y, eval_set=[(train_x, train_y), (valid_x, valid_y)], \n",
    "            eval_metric= 'auc', verbose= 100, early_stopping_rounds= 200)\n",
    "\n",
    "        oof_preds[valid_idx] = clf.predict_proba(valid_x, num_iteration=clf.best_iteration_)[:, 1]\n",
    "        sub_preds += clf.predict_proba(test_df[feats], num_iteration=clf.best_iteration_)[:, 1] / folds.n_splits\n",
    "\n",
    "        fold_importance_df = pd.DataFrame()\n",
    "        fold_importance_df[\"feature\"] = feats\n",
    "        fold_importance_df[\"importance\"] = clf.feature_importances_\n",
    "        fold_importance_df[\"fold\"] = n_fold + 1\n",
    "        feature_importance_df = pd.concat([feature_importance_df, fold_importance_df], axis=0)\n",
    "        print('Fold %2d AUC : %.6f' % (n_fold + 1, roc_auc_score(valid_y, oof_preds[valid_idx])))\n",
    "        del clf, train_x, train_y, valid_x, valid_y\n",
    "        gc.collect()\n",
    "\n",
    "    print('Full AUC score %.6f' % roc_auc_score(train_df['TARGET'], oof_preds))\n",
    "    # Write submission file and plot feature importance\n",
    "    if not debug:\n",
    "        test_df['TARGET'] = sub_preds\n",
    "        test_df[['SK_ID_CURR', 'TARGET']].to_csv(submission_file_name, index= False)\n",
    "    display_importances(feature_importance_df)\n",
    "    return feature_importance_df"
   ]
  },
  {
   "cell_type": "code",
   "execution_count": 13,
   "metadata": {},
   "outputs": [],
   "source": [
    "# Display/plot feature importance\n",
    "def display_importances(feature_importance_df_):\n",
    "    cols = feature_importance_df_[[\"feature\", \"importance\"]].groupby(\"feature\").mean().sort_values(by=\"importance\", ascending=False)[:40].index\n",
    "    best_features = feature_importance_df_.loc[feature_importance_df_.feature.isin(cols)]\n",
    "    plt.figure(figsize=(8, 10))\n",
    "    sns.barplot(x=\"importance\", y=\"feature\", data=best_features.sort_values(by=\"importance\", ascending=False))\n",
    "    plt.title('LightGBM Features (avg over folds)')\n",
    "    plt.tight_layout()\n",
    "    plt.savefig('lgbm_importances01.png')"
   ]
  },
  {
   "cell_type": "code",
   "execution_count": 14,
   "metadata": {},
   "outputs": [],
   "source": [
    "def main(train_df, test_df,debug=False):\n",
    "    with timer(\"Run LightGBM with kfold\"):\n",
    "        feat_importance = kfold_lightgbm(train_df, test_df, num_folds= 5, stratified= False, debug= debug)\n",
    "\n",
    "def main_10(train_df, test_df,debug=False):\n",
    "    with timer(\"Run LightGBM with kfold\"):\n",
    "        feat_importance = kfold_lightgbm(train_df, test_df, num_folds= 10, stratified= False, debug= debug)"
   ]
  },
  {
   "cell_type": "markdown",
   "metadata": {},
   "source": [
    "## Add our features"
   ]
  },
  {
   "cell_type": "code",
   "execution_count": 15,
   "metadata": {},
   "outputs": [
    {
     "ename": "TypeError",
     "evalue": "unsupported operand type(s) for +: 'NoneType' and 'str'",
     "output_type": "error",
     "traceback": [
      "\u001b[0;31m---------------------------------------------------------------------------\u001b[0m",
      "\u001b[0;31mTypeError\u001b[0m                                 Traceback (most recent call last)",
      "\u001b[0;32m<ipython-input-15-8eb18c841752>\u001b[0m in \u001b[0;36m<module>\u001b[0;34m()\u001b[0m\n\u001b[1;32m      1\u001b[0m \u001b[0;31m# Features generated by above functions\u001b[0m\u001b[0;34m\u001b[0m\u001b[0;34m\u001b[0m\u001b[0m\n\u001b[0;32m----> 2\u001b[0;31m \u001b[0mbase_features\u001b[0m \u001b[0;34m=\u001b[0m \u001b[0mfeature_prepare\u001b[0m\u001b[0;34m(\u001b[0m\u001b[0;34m)\u001b[0m\u001b[0;34m\u001b[0m\u001b[0m\n\u001b[0m\u001b[1;32m      3\u001b[0m \u001b[0;31m# base_features.to_csv('base_features.csv',index=False)\u001b[0m\u001b[0;34m\u001b[0m\u001b[0;34m\u001b[0m\u001b[0m\n",
      "\u001b[0;32m<ipython-input-11-70d52ca48735>\u001b[0m in \u001b[0;36mfeature_prepare\u001b[0;34m(debug)\u001b[0m\n\u001b[1;32m      2\u001b[0m     \u001b[0;34m\"\"\"Pre-process all the separate data sets and join them.\"\"\"\u001b[0m\u001b[0;34m\u001b[0m\u001b[0m\n\u001b[1;32m      3\u001b[0m     \u001b[0mnum_rows\u001b[0m \u001b[0;34m=\u001b[0m \u001b[0;36m10000\u001b[0m \u001b[0;32mif\u001b[0m \u001b[0mdebug\u001b[0m \u001b[0;32melse\u001b[0m \u001b[0;32mNone\u001b[0m\u001b[0;34m\u001b[0m\u001b[0m\n\u001b[0;32m----> 4\u001b[0;31m     \u001b[0mdf\u001b[0m \u001b[0;34m=\u001b[0m \u001b[0mapplication_train_test\u001b[0m\u001b[0;34m(\u001b[0m\u001b[0mnum_rows\u001b[0m\u001b[0;34m)\u001b[0m\u001b[0;34m\u001b[0m\u001b[0m\n\u001b[0m\u001b[1;32m      5\u001b[0m     \u001b[0;32mwith\u001b[0m \u001b[0mtimer\u001b[0m\u001b[0;34m(\u001b[0m\u001b[0;34m\"Process bureau and bureau_balance\"\u001b[0m\u001b[0;34m)\u001b[0m\u001b[0;34m:\u001b[0m\u001b[0;34m\u001b[0m\u001b[0m\n\u001b[1;32m      6\u001b[0m         \u001b[0mbureau\u001b[0m \u001b[0;34m=\u001b[0m \u001b[0mbureau_and_balance\u001b[0m\u001b[0;34m(\u001b[0m\u001b[0mnum_rows\u001b[0m\u001b[0;34m)\u001b[0m\u001b[0;34m\u001b[0m\u001b[0m\n",
      "\u001b[0;32m<ipython-input-5-cc0a4e7d026c>\u001b[0m in \u001b[0;36mapplication_train_test\u001b[0;34m(path_to_kaggle_data, num_rows, nan_as_category)\u001b[0m\n\u001b[1;32m      6\u001b[0m     \"\"\"\n\u001b[1;32m      7\u001b[0m     \u001b[0;31m# Read data and merge\u001b[0m\u001b[0;34m\u001b[0m\u001b[0;34m\u001b[0m\u001b[0m\n\u001b[0;32m----> 8\u001b[0;31m     \u001b[0mdf\u001b[0m \u001b[0;34m=\u001b[0m \u001b[0mpd\u001b[0m\u001b[0;34m.\u001b[0m\u001b[0mread_csv\u001b[0m\u001b[0;34m(\u001b[0m\u001b[0mpath_to_kaggle_data\u001b[0m \u001b[0;34m+\u001b[0m \u001b[0;34m'/application_train.csv'\u001b[0m\u001b[0;34m,\u001b[0m \u001b[0mnrows\u001b[0m\u001b[0;34m=\u001b[0m \u001b[0mnum_rows\u001b[0m\u001b[0;34m)\u001b[0m\u001b[0;34m\u001b[0m\u001b[0m\n\u001b[0m\u001b[1;32m      9\u001b[0m     \u001b[0mtest_df\u001b[0m \u001b[0;34m=\u001b[0m \u001b[0mpd\u001b[0m\u001b[0;34m.\u001b[0m\u001b[0mread_csv\u001b[0m\u001b[0;34m(\u001b[0m\u001b[0mpath_to_kaggle_data\u001b[0m \u001b[0;34m+\u001b[0m \u001b[0;34m'/application_test.csv'\u001b[0m\u001b[0;34m,\u001b[0m \u001b[0mnrows\u001b[0m\u001b[0;34m=\u001b[0m \u001b[0mnum_rows\u001b[0m\u001b[0;34m)\u001b[0m\u001b[0;34m\u001b[0m\u001b[0m\n\u001b[1;32m     10\u001b[0m     \u001b[0mprint\u001b[0m\u001b[0;34m(\u001b[0m\u001b[0;34m\"Train samples: {}, test samples: {}\"\u001b[0m\u001b[0;34m.\u001b[0m\u001b[0mformat\u001b[0m\u001b[0;34m(\u001b[0m\u001b[0mlen\u001b[0m\u001b[0;34m(\u001b[0m\u001b[0mdf\u001b[0m\u001b[0;34m)\u001b[0m\u001b[0;34m,\u001b[0m \u001b[0mlen\u001b[0m\u001b[0;34m(\u001b[0m\u001b[0mtest_df\u001b[0m\u001b[0;34m)\u001b[0m\u001b[0;34m)\u001b[0m\u001b[0;34m)\u001b[0m\u001b[0;34m\u001b[0m\u001b[0m\n",
      "\u001b[0;31mTypeError\u001b[0m: unsupported operand type(s) for +: 'NoneType' and 'str'"
     ]
    }
   ],
   "source": [
    "# Features generated by above functions\n",
    "base_features = feature_prepare()\n",
    "# base_features.to_csv('base_features.csv',index=False)"
   ]
  },
  {
   "cell_type": "code",
   "execution_count": 17,
   "metadata": {},
   "outputs": [],
   "source": [
    "df = pd.read_csv(path_to_kaggle_data + '/application_train.csv', nrows=None)"
   ]
  },
  {
   "cell_type": "code",
   "execution_count": null,
   "metadata": {},
   "outputs": [],
   "source": [
    "base_features.shape"
   ]
  },
  {
   "cell_type": "code",
   "execution_count": 9,
   "metadata": {},
   "outputs": [],
   "source": [
    "import sqlite3\n",
    "conn = sqlite3.connect('default.sqlite')\n",
    "def pysql(code):\n",
    "    return pd.read_sql_query(code,conn)"
   ]
  },
  {
   "cell_type": "code",
   "execution_count": null,
   "metadata": {},
   "outputs": [],
   "source": [
    "user = pd.read_csv(path_to_kaggle_data + '/user_behaviour_pay_status.csv', nrows= num_rows)"
   ]
  },
  {
   "cell_type": "code",
   "execution_count": null,
   "metadata": {},
   "outputs": [],
   "source": [
    "full = base_features.set_index('SK_ID_CURR').join(pay.set_index('SK_ID_CURR'),how='left')"
   ]
  },
  {
   "cell_type": "code",
   "execution_count": 10,
   "metadata": {},
   "outputs": [
    {
     "ename": "DatabaseError",
     "evalue": "Execution failed on sql 'SELECT * FROM user_behaviour_pay_status': no such table: user_behaviour_pay_status",
     "output_type": "error",
     "traceback": [
      "\u001b[0;31m---------------------------------------------------------------------------\u001b[0m",
      "\u001b[0;31mOperationalError\u001b[0m                          Traceback (most recent call last)",
      "\u001b[0;32m/home/johanna/anaconda3/lib/python3.6/site-packages/pandas/io/sql.py\u001b[0m in \u001b[0;36mexecute\u001b[0;34m(self, *args, **kwargs)\u001b[0m\n\u001b[1;32m   1403\u001b[0m             \u001b[0;32melse\u001b[0m\u001b[0;34m:\u001b[0m\u001b[0;34m\u001b[0m\u001b[0m\n\u001b[0;32m-> 1404\u001b[0;31m                 \u001b[0mcur\u001b[0m\u001b[0;34m.\u001b[0m\u001b[0mexecute\u001b[0m\u001b[0;34m(\u001b[0m\u001b[0;34m*\u001b[0m\u001b[0margs\u001b[0m\u001b[0;34m)\u001b[0m\u001b[0;34m\u001b[0m\u001b[0m\n\u001b[0m\u001b[1;32m   1405\u001b[0m             \u001b[0;32mreturn\u001b[0m \u001b[0mcur\u001b[0m\u001b[0;34m\u001b[0m\u001b[0m\n",
      "\u001b[0;31mOperationalError\u001b[0m: no such table: user_behaviour_pay_status",
      "\nDuring handling of the above exception, another exception occurred:\n",
      "\u001b[0;31mDatabaseError\u001b[0m                             Traceback (most recent call last)",
      "\u001b[0;32m<ipython-input-10-0674f5b6eb84>\u001b[0m in \u001b[0;36m<module>\u001b[0;34m()\u001b[0m\n\u001b[0;32m----> 1\u001b[0;31m \u001b[0mpay\u001b[0m \u001b[0;34m=\u001b[0m \u001b[0mpysql\u001b[0m\u001b[0;34m(\u001b[0m\u001b[0;34m'SELECT * FROM user_behaviour_pay_status'\u001b[0m\u001b[0;34m)\u001b[0m\u001b[0;34m\u001b[0m\u001b[0m\n\u001b[0m\u001b[1;32m      2\u001b[0m \u001b[0mfull\u001b[0m \u001b[0;34m=\u001b[0m \u001b[0mbase_features\u001b[0m\u001b[0;34m.\u001b[0m\u001b[0mset_index\u001b[0m\u001b[0;34m(\u001b[0m\u001b[0;34m'SK_ID_CURR'\u001b[0m\u001b[0;34m)\u001b[0m\u001b[0;34m.\u001b[0m\u001b[0mjoin\u001b[0m\u001b[0;34m(\u001b[0m\u001b[0mpay\u001b[0m\u001b[0;34m.\u001b[0m\u001b[0mset_index\u001b[0m\u001b[0;34m(\u001b[0m\u001b[0;34m'SK_ID_CURR'\u001b[0m\u001b[0;34m)\u001b[0m\u001b[0;34m,\u001b[0m\u001b[0mhow\u001b[0m\u001b[0;34m=\u001b[0m\u001b[0;34m'left'\u001b[0m\u001b[0;34m)\u001b[0m\u001b[0;34m\u001b[0m\u001b[0m\n\u001b[1;32m      3\u001b[0m \u001b[0;32mdel\u001b[0m \u001b[0mpay\u001b[0m\u001b[0;34m\u001b[0m\u001b[0m\n",
      "\u001b[0;32m<ipython-input-9-bae35deec9a4>\u001b[0m in \u001b[0;36mpysql\u001b[0;34m(code)\u001b[0m\n\u001b[1;32m      2\u001b[0m \u001b[0mconn\u001b[0m \u001b[0;34m=\u001b[0m \u001b[0msqlite3\u001b[0m\u001b[0;34m.\u001b[0m\u001b[0mconnect\u001b[0m\u001b[0;34m(\u001b[0m\u001b[0;34m'default.sqlite'\u001b[0m\u001b[0;34m)\u001b[0m\u001b[0;34m\u001b[0m\u001b[0m\n\u001b[1;32m      3\u001b[0m \u001b[0;32mdef\u001b[0m \u001b[0mpysql\u001b[0m\u001b[0;34m(\u001b[0m\u001b[0mcode\u001b[0m\u001b[0;34m)\u001b[0m\u001b[0;34m:\u001b[0m\u001b[0;34m\u001b[0m\u001b[0m\n\u001b[0;32m----> 4\u001b[0;31m     \u001b[0;32mreturn\u001b[0m \u001b[0mpd\u001b[0m\u001b[0;34m.\u001b[0m\u001b[0mread_sql_query\u001b[0m\u001b[0;34m(\u001b[0m\u001b[0mcode\u001b[0m\u001b[0;34m,\u001b[0m\u001b[0mconn\u001b[0m\u001b[0;34m)\u001b[0m\u001b[0;34m\u001b[0m\u001b[0m\n\u001b[0m",
      "\u001b[0;32m/home/johanna/anaconda3/lib/python3.6/site-packages/pandas/io/sql.py\u001b[0m in \u001b[0;36mread_sql_query\u001b[0;34m(sql, con, index_col, coerce_float, params, parse_dates, chunksize)\u001b[0m\n\u001b[1;32m    330\u001b[0m     return pandas_sql.read_query(\n\u001b[1;32m    331\u001b[0m         \u001b[0msql\u001b[0m\u001b[0;34m,\u001b[0m \u001b[0mindex_col\u001b[0m\u001b[0;34m=\u001b[0m\u001b[0mindex_col\u001b[0m\u001b[0;34m,\u001b[0m \u001b[0mparams\u001b[0m\u001b[0;34m=\u001b[0m\u001b[0mparams\u001b[0m\u001b[0;34m,\u001b[0m \u001b[0mcoerce_float\u001b[0m\u001b[0;34m=\u001b[0m\u001b[0mcoerce_float\u001b[0m\u001b[0;34m,\u001b[0m\u001b[0;34m\u001b[0m\u001b[0m\n\u001b[0;32m--> 332\u001b[0;31m         parse_dates=parse_dates, chunksize=chunksize)\n\u001b[0m\u001b[1;32m    333\u001b[0m \u001b[0;34m\u001b[0m\u001b[0m\n\u001b[1;32m    334\u001b[0m \u001b[0;34m\u001b[0m\u001b[0m\n",
      "\u001b[0;32m/home/johanna/anaconda3/lib/python3.6/site-packages/pandas/io/sql.py\u001b[0m in \u001b[0;36mread_query\u001b[0;34m(self, sql, index_col, coerce_float, params, parse_dates, chunksize)\u001b[0m\n\u001b[1;32m   1437\u001b[0m \u001b[0;34m\u001b[0m\u001b[0m\n\u001b[1;32m   1438\u001b[0m         \u001b[0margs\u001b[0m \u001b[0;34m=\u001b[0m \u001b[0m_convert_params\u001b[0m\u001b[0;34m(\u001b[0m\u001b[0msql\u001b[0m\u001b[0;34m,\u001b[0m \u001b[0mparams\u001b[0m\u001b[0;34m)\u001b[0m\u001b[0;34m\u001b[0m\u001b[0m\n\u001b[0;32m-> 1439\u001b[0;31m         \u001b[0mcursor\u001b[0m \u001b[0;34m=\u001b[0m \u001b[0mself\u001b[0m\u001b[0;34m.\u001b[0m\u001b[0mexecute\u001b[0m\u001b[0;34m(\u001b[0m\u001b[0;34m*\u001b[0m\u001b[0margs\u001b[0m\u001b[0;34m)\u001b[0m\u001b[0;34m\u001b[0m\u001b[0m\n\u001b[0m\u001b[1;32m   1440\u001b[0m         \u001b[0mcolumns\u001b[0m \u001b[0;34m=\u001b[0m \u001b[0;34m[\u001b[0m\u001b[0mcol_desc\u001b[0m\u001b[0;34m[\u001b[0m\u001b[0;36m0\u001b[0m\u001b[0;34m]\u001b[0m \u001b[0;32mfor\u001b[0m \u001b[0mcol_desc\u001b[0m \u001b[0;32min\u001b[0m \u001b[0mcursor\u001b[0m\u001b[0;34m.\u001b[0m\u001b[0mdescription\u001b[0m\u001b[0;34m]\u001b[0m\u001b[0;34m\u001b[0m\u001b[0m\n\u001b[1;32m   1441\u001b[0m \u001b[0;34m\u001b[0m\u001b[0m\n",
      "\u001b[0;32m/home/johanna/anaconda3/lib/python3.6/site-packages/pandas/io/sql.py\u001b[0m in \u001b[0;36mexecute\u001b[0;34m(self, *args, **kwargs)\u001b[0m\n\u001b[1;32m   1414\u001b[0m             ex = DatabaseError(\n\u001b[1;32m   1415\u001b[0m                 \"Execution failed on sql '%s': %s\" % (args[0], exc))\n\u001b[0;32m-> 1416\u001b[0;31m             \u001b[0mraise_with_traceback\u001b[0m\u001b[0;34m(\u001b[0m\u001b[0mex\u001b[0m\u001b[0;34m)\u001b[0m\u001b[0;34m\u001b[0m\u001b[0m\n\u001b[0m\u001b[1;32m   1417\u001b[0m \u001b[0;34m\u001b[0m\u001b[0m\n\u001b[1;32m   1418\u001b[0m     \u001b[0;34m@\u001b[0m\u001b[0mstaticmethod\u001b[0m\u001b[0;34m\u001b[0m\u001b[0m\n",
      "\u001b[0;32m/home/johanna/anaconda3/lib/python3.6/site-packages/pandas/compat/__init__.py\u001b[0m in \u001b[0;36mraise_with_traceback\u001b[0;34m(exc, traceback)\u001b[0m\n\u001b[1;32m    342\u001b[0m         \u001b[0;32mif\u001b[0m \u001b[0mtraceback\u001b[0m \u001b[0;34m==\u001b[0m \u001b[0mEllipsis\u001b[0m\u001b[0;34m:\u001b[0m\u001b[0;34m\u001b[0m\u001b[0m\n\u001b[1;32m    343\u001b[0m             \u001b[0m_\u001b[0m\u001b[0;34m,\u001b[0m \u001b[0m_\u001b[0m\u001b[0;34m,\u001b[0m \u001b[0mtraceback\u001b[0m \u001b[0;34m=\u001b[0m \u001b[0msys\u001b[0m\u001b[0;34m.\u001b[0m\u001b[0mexc_info\u001b[0m\u001b[0;34m(\u001b[0m\u001b[0;34m)\u001b[0m\u001b[0;34m\u001b[0m\u001b[0m\n\u001b[0;32m--> 344\u001b[0;31m         \u001b[0;32mraise\u001b[0m \u001b[0mexc\u001b[0m\u001b[0;34m.\u001b[0m\u001b[0mwith_traceback\u001b[0m\u001b[0;34m(\u001b[0m\u001b[0mtraceback\u001b[0m\u001b[0;34m)\u001b[0m\u001b[0;34m\u001b[0m\u001b[0m\n\u001b[0m\u001b[1;32m    345\u001b[0m \u001b[0;32melse\u001b[0m\u001b[0;34m:\u001b[0m\u001b[0;34m\u001b[0m\u001b[0m\n\u001b[1;32m    346\u001b[0m     \u001b[0;31m# this version of raise is a syntax error in Python 3\u001b[0m\u001b[0;34m\u001b[0m\u001b[0;34m\u001b[0m\u001b[0m\n",
      "\u001b[0;32m/home/johanna/anaconda3/lib/python3.6/site-packages/pandas/io/sql.py\u001b[0m in \u001b[0;36mexecute\u001b[0;34m(self, *args, **kwargs)\u001b[0m\n\u001b[1;32m   1402\u001b[0m                 \u001b[0mcur\u001b[0m\u001b[0;34m.\u001b[0m\u001b[0mexecute\u001b[0m\u001b[0;34m(\u001b[0m\u001b[0;34m*\u001b[0m\u001b[0margs\u001b[0m\u001b[0;34m,\u001b[0m \u001b[0;34m**\u001b[0m\u001b[0mkwargs\u001b[0m\u001b[0;34m)\u001b[0m\u001b[0;34m\u001b[0m\u001b[0m\n\u001b[1;32m   1403\u001b[0m             \u001b[0;32melse\u001b[0m\u001b[0;34m:\u001b[0m\u001b[0;34m\u001b[0m\u001b[0m\n\u001b[0;32m-> 1404\u001b[0;31m                 \u001b[0mcur\u001b[0m\u001b[0;34m.\u001b[0m\u001b[0mexecute\u001b[0m\u001b[0;34m(\u001b[0m\u001b[0;34m*\u001b[0m\u001b[0margs\u001b[0m\u001b[0;34m)\u001b[0m\u001b[0;34m\u001b[0m\u001b[0m\n\u001b[0m\u001b[1;32m   1405\u001b[0m             \u001b[0;32mreturn\u001b[0m \u001b[0mcur\u001b[0m\u001b[0;34m\u001b[0m\u001b[0m\n\u001b[1;32m   1406\u001b[0m         \u001b[0;32mexcept\u001b[0m \u001b[0mException\u001b[0m \u001b[0;32mas\u001b[0m \u001b[0mexc\u001b[0m\u001b[0;34m:\u001b[0m\u001b[0;34m\u001b[0m\u001b[0m\n",
      "\u001b[0;31mDatabaseError\u001b[0m: Execution failed on sql 'SELECT * FROM user_behaviour_pay_status': no such table: user_behaviour_pay_status"
     ]
    }
   ],
   "source": [
    "pay = pysql('SELECT * FROM user_behaviour_pay_status')\n",
    "full = base_features.set_index('SK_ID_CURR').join(pay.set_index('SK_ID_CURR'),how='left')\n",
    "del pay"
   ]
  },
  {
   "cell_type": "markdown",
   "metadata": {},
   "source": [
    "## KS"
   ]
  },
  {
   "cell_type": "code",
   "execution_count": 13,
   "metadata": {},
   "outputs": [
    {
     "data": {
      "text/plain": [
       "((282682, 899), (24825, 899))"
      ]
     },
     "execution_count": 13,
     "metadata": {},
     "output_type": "execute_result"
    }
   ],
   "source": [
    "from scipy import stats\n",
    "goods = full.query('TARGET == 0')\n",
    "defaults = full.query('TARGET == 1')\n",
    "goods.shape,defaults.shape"
   ]
  },
  {
   "cell_type": "code",
   "execution_count": 14,
   "metadata": {},
   "outputs": [
    {
     "name": "stdout",
     "output_type": "stream",
     "text": [
      "time elapsed: 43.97\n"
     ]
    }
   ],
   "source": [
    "start = time.time()\n",
    "variables = np.array([])\n",
    "scores = np.array([])\n",
    "for v in full.columns:\n",
    "    variable = v\n",
    "    ks = stats.ks_2samp(goods[v], defaults[v])\n",
    "    variables = np.hstack((variables,v))\n",
    "    scores = np.hstack((scores,ks[0]))\n",
    "end = time.time() \n",
    "print('time elapsed: {:.2f}'.format(end-start))"
   ]
  },
  {
   "cell_type": "code",
   "execution_count": 17,
   "metadata": {},
   "outputs": [
    {
     "data": {
      "text/plain": [
       "array([1.        , 0.22328885, 0.19746255, 0.15466213, 0.13726573,\n",
       "       0.13550183, 0.13329567, 0.13089324, 0.12562523, 0.12437477,\n",
       "       0.12388313, 0.12243642, 0.12187878, 0.1202876 , 0.11703069,\n",
       "       0.1145477 , 0.11443279, 0.11051882, 0.10937092, 0.10707338,\n",
       "       0.10544895, 0.10471876, 0.1039575 , 0.10356142, 0.1033065 ,\n",
       "       0.1031189 , 0.10288956, 0.10276447, 0.10215221, 0.1009105 ,\n",
       "       0.10059598, 0.10054135, 0.10039111, 0.10015082, 0.10010902,\n",
       "       0.09960581, 0.09901066, 0.09900438, 0.098952  , 0.09894492,\n",
       "       0.09885351, 0.09884473, 0.09883936, 0.09778391, 0.09715205,\n",
       "       0.09702436, 0.09692013, 0.09680171, 0.09624227, 0.0956651 ,\n",
       "       0.09524613, 0.09481291, 0.09458678, 0.09451663, 0.09419523,\n",
       "       0.09199233, 0.09184592, 0.09183344, 0.09160366, 0.09157524,\n",
       "       0.09152345, 0.09139779, 0.09070291, 0.09019879, 0.09016059,\n",
       "       0.0897375 , 0.08972469, 0.08915517, 0.0883045 , 0.08740597,\n",
       "       0.08719978, 0.08673038, 0.08657749, 0.08648037, 0.08610364,\n",
       "       0.08559959, 0.08527263, 0.085212  , 0.08518795, 0.08385014,\n",
       "       0.08377687, 0.08368867, 0.08365467, 0.08355801, 0.08355801,\n",
       "       0.08355801, 0.08355801, 0.08355801, 0.08297158, 0.08270474,\n",
       "       0.08219022, 0.08201028, 0.08198699, 0.08078992, 0.0803808 ,\n",
       "       0.08036809, 0.08025252, 0.08010706, 0.07984191, 0.07979544])"
      ]
     },
     "execution_count": 17,
     "metadata": {},
     "output_type": "execute_result"
    }
   ],
   "source": [
    "scores[np.argsort(-scores)][:100]"
   ]
  },
  {
   "cell_type": "code",
   "execution_count": 18,
   "metadata": {},
   "outputs": [
    {
     "data": {
      "text/plain": [
       "array(['TARGET', 'EXT_SOURCE_2', 'EXT_SOURCE_3', 'BURO_DAYS_CREDIT_MEAN',\n",
       "       'BURO_DAYS_CREDIT_UPDATE_MEAN', 'DAYS_EMPLOYED_PERC',\n",
       "       'BURO_CREDIT_ACTIVE_Active_MEAN', 'CLOSED_DAYS_CREDIT_MEAN',\n",
       "       'BURO_DAYS_CREDIT_MAX', 'CLOSED_DAYS_CREDIT_MIN',\n",
       "       'BURO_DAYS_CREDIT_MIN', 'num_earlypay_1000_normalized',\n",
       "       'DAYS_BIRTH', 'BURO_DAYS_CREDIT_ENDDATE_MEAN',\n",
       "       'num_earlypay_600_normalized', 'CLOSED_DAYS_CREDIT_UPDATE_MEAN',\n",
       "       'CLOSED_DAYS_CREDIT_ENDDATE_MIN', 'BURO_DAYS_CREDIT_ENDDATE_MIN',\n",
       "       'num_latepay_1000_normalized', 'num_latepay_1000',\n",
       "       'NAME_INCOME_TYPE_Working',\n",
       "       'PREV_NAME_CONTRACT_STATUS_Approved_MEAN',\n",
       "       'CLOSED_DAYS_CREDIT_MAX', 'PREV_CODE_REJECT_REASON_XAP_MEAN',\n",
       "       'num_earlypay_all_normalized', 'CLOSED_DAYS_CREDIT_ENDDATE_MEAN',\n",
       "       'num_earlypay_300_normalized', 'num_latepay_600_normalized',\n",
       "       'num_latepay_600', 'REFUSED_AMT_APPLICATION_MIN',\n",
       "       'REFUSED_AMT_CREDIT_MIN', 'REFUSED_AMT_APPLICATION_MEAN',\n",
       "       'REFUSED_HOUR_APPR_PROCESS_START_MIN', 'REFUSED_AMT_CREDIT_MEAN',\n",
       "       'REFUSED_HOUR_APPR_PROCESS_START_MEAN',\n",
       "       'BURO_AMT_CREDIT_SUM_DEBT_MEAN', 'REFUSED_AMT_APPLICATION_MAX',\n",
       "       'REFUSED_AMT_CREDIT_MAX', 'REFUSED_DAYS_DECISION_MEAN',\n",
       "       'REFUSED_DAYS_DECISION_MIN', 'REFUSED_CNT_PAYMENT_SUM',\n",
       "       'REFUSED_HOUR_APPR_PROCESS_START_MAX', 'REFUSED_DAYS_DECISION_MAX',\n",
       "       'PREV_APP_CREDIT_PERC_MEAN', 'INSTAL_AMT_PAYMENT_MIN',\n",
       "       'REFUSED_APP_CREDIT_PERC_MIN', 'REFUSED_APP_CREDIT_PERC_MEAN',\n",
       "       'DAYS_LAST_PHONE_CHANGE', 'num_latepay_all_normalized',\n",
       "       'BURO_CREDIT_ACTIVE_Closed_MEAN', 'CODE_GENDER',\n",
       "       'APPROVED_APP_CREDIT_PERC_MAX', 'PAYMENT_RATE',\n",
       "       'INSTAL_PAYMENT_PERC_MEAN', 'AMT_GOODS_PRICE',\n",
       "       'REFUSED_APP_CREDIT_PERC_MAX', 'REFUSED_AMT_GOODS_PRICE_MIN',\n",
       "       'PREV_APP_CREDIT_PERC_MAX', 'REFUSED_AMT_ANNUITY_MIN',\n",
       "       'REFUSED_AMT_ANNUITY_MEAN', 'REFUSED_AMT_ANNUITY_MAX',\n",
       "       'REFUSED_AMT_GOODS_PRICE_MEAN', 'num_earlypay_all',\n",
       "       'CLOSED_DAYS_CREDIT_VAR', 'REFUSED_AMT_GOODS_PRICE_MAX',\n",
       "       'REFUSED_CNT_PAYMENT_MEAN',\n",
       "       'PREV_NAME_CONTRACT_STATUS_Refused_MEAN',\n",
       "       'NAME_EDUCATION_TYPE_Higher education',\n",
       "       'num_earlypay_100_normalized', 'BURO_AMT_CREDIT_SUM_DEBT_SUM',\n",
       "       'INSTAL_DPD_MEAN', 'EXT_SOURCE_1', 'DAYS_EMPLOYED',\n",
       "       'PREV_NAME_YIELD_GROUP_low_normal_MEAN',\n",
       "       'CLOSED_AMT_CREDIT_SUM_DEBT_SUM', 'BURO_DAYS_CREDIT_ENDDATE_MAX',\n",
       "       'CLOSED_DAYS_CREDIT_ENDDATE_MAX', 'DAYS_ID_PUBLISH',\n",
       "       'PREV_APP_CREDIT_PERC_MIN', 'CLOSED_AMT_CREDIT_SUM_OVERDUE_MEAN',\n",
       "       'CLOSED_AMT_CREDIT_SUM_LIMIT_SUM',\n",
       "       'CLOSED_CREDIT_DAY_OVERDUE_MEAN', 'CLOSED_CREDIT_DAY_OVERDUE_MAX',\n",
       "       'CLOSED_AMT_CREDIT_SUM_MEAN', 'CLOSED_AMT_CREDIT_SUM_MAX',\n",
       "       'CLOSED_MONTHS_BALANCE_SIZE_SUM', 'CLOSED_AMT_CREDIT_SUM_SUM',\n",
       "       'CLOSED_CNT_CREDIT_PROLONG_SUM',\n",
       "       'NAME_EDUCATION_TYPE_Secondary / secondary special',\n",
       "       'CLOSED_AMT_CREDIT_SUM_LIMIT_MEAN',\n",
       "       'CLOSED_AMT_CREDIT_SUM_DEBT_MAX',\n",
       "       'CLOSED_AMT_CREDIT_SUM_DEBT_MEAN', 'ACTIVE_DAYS_CREDIT_MAX',\n",
       "       'BURO_CREDIT_TYPE_Credit card_MEAN',\n",
       "       'APPROVED_AMT_DOWN_PAYMENT_MAX', 'BURO_AMT_CREDIT_SUM_DEBT_MAX',\n",
       "       'PREV_DAYS_DECISION_MEAN', 'APPROVED_APP_CREDIT_PERC_MEAN',\n",
       "       'INSTAL_DAYS_ENTRY_PAYMENT_MEAN', 'num_latepay_300_normalized'],\n",
       "      dtype='<U69')"
      ]
     },
     "execution_count": 18,
     "metadata": {},
     "output_type": "execute_result"
    }
   ],
   "source": [
    "variables[np.argsort(-scores)][0:100]"
   ]
  },
  {
   "cell_type": "markdown",
   "metadata": {},
   "source": [
    "## 5 fold 100 features"
   ]
  },
  {
   "cell_type": "code",
   "execution_count": 26,
   "metadata": {},
   "outputs": [
    {
     "name": "stdout",
     "output_type": "stream",
     "text": [
      "Starting LightGBM. Train shape: (307507, 101), test shape: (48744, 100)\n",
      "Training until validation scores don't improve for 200 rounds.\n",
      "[100]\ttraining's auc: 0.771636\tvalid_1's auc: 0.760573\n",
      "[200]\ttraining's auc: 0.789029\tvalid_1's auc: 0.771635\n",
      "[300]\ttraining's auc: 0.799654\tvalid_1's auc: 0.776268\n",
      "[400]\ttraining's auc: 0.807665\tvalid_1's auc: 0.778823\n",
      "[500]\ttraining's auc: 0.81452\tvalid_1's auc: 0.780195\n",
      "[600]\ttraining's auc: 0.820185\tvalid_1's auc: 0.780953\n",
      "[700]\ttraining's auc: 0.82572\tvalid_1's auc: 0.781354\n",
      "[800]\ttraining's auc: 0.830774\tvalid_1's auc: 0.7815\n",
      "[900]\ttraining's auc: 0.83549\tvalid_1's auc: 0.78179\n",
      "[1000]\ttraining's auc: 0.839925\tvalid_1's auc: 0.781983\n",
      "[1100]\ttraining's auc: 0.844165\tvalid_1's auc: 0.782194\n",
      "[1200]\ttraining's auc: 0.848497\tvalid_1's auc: 0.782171\n",
      "[1300]\ttraining's auc: 0.8527\tvalid_1's auc: 0.782165\n",
      "[1400]\ttraining's auc: 0.856545\tvalid_1's auc: 0.782029\n",
      "Early stopping, best iteration is:\n",
      "[1223]\ttraining's auc: 0.849498\tvalid_1's auc: 0.782236\n",
      "Fold  1 AUC : 0.782236\n",
      "Training until validation scores don't improve for 200 rounds.\n",
      "[100]\ttraining's auc: 0.772167\tvalid_1's auc: 0.755107\n",
      "[200]\ttraining's auc: 0.789619\tvalid_1's auc: 0.766444\n",
      "[300]\ttraining's auc: 0.799993\tvalid_1's auc: 0.770907\n",
      "[400]\ttraining's auc: 0.808358\tvalid_1's auc: 0.773878\n",
      "[500]\ttraining's auc: 0.815319\tvalid_1's auc: 0.775293\n",
      "[600]\ttraining's auc: 0.821337\tvalid_1's auc: 0.776039\n",
      "[700]\ttraining's auc: 0.826621\tvalid_1's auc: 0.776446\n",
      "[800]\ttraining's auc: 0.831683\tvalid_1's auc: 0.776896\n",
      "[900]\ttraining's auc: 0.836744\tvalid_1's auc: 0.777222\n"
     ]
    },
    {
     "ename": "KeyboardInterrupt",
     "evalue": "",
     "output_type": "error",
     "traceback": [
      "\u001b[0;31m---------------------------------------------------------------------------\u001b[0m",
      "\u001b[0;31mKeyboardInterrupt\u001b[0m                         Traceback (most recent call last)",
      "\u001b[0;32m<ipython-input-26-0eb42773bb85>\u001b[0m in \u001b[0;36m<module>\u001b[0;34m()\u001b[0m\n\u001b[1;32m      6\u001b[0m \u001b[0msubmission_file_name\u001b[0m \u001b[0;34m=\u001b[0m \u001b[0;34m\"submission_0823_100.csv\"\u001b[0m\u001b[0;34m\u001b[0m\u001b[0m\n\u001b[1;32m      7\u001b[0m \u001b[0;32mwith\u001b[0m \u001b[0mtimer\u001b[0m\u001b[0;34m(\u001b[0m\u001b[0;34m\"Full model run\"\u001b[0m\u001b[0;34m)\u001b[0m\u001b[0;34m:\u001b[0m\u001b[0;34m\u001b[0m\u001b[0m\n\u001b[0;32m----> 8\u001b[0;31m     \u001b[0mmain\u001b[0m\u001b[0;34m(\u001b[0m\u001b[0mtrain_df\u001b[0m\u001b[0;34m=\u001b[0m\u001b[0msub_train\u001b[0m \u001b[0;34m,\u001b[0m \u001b[0mtest_df\u001b[0m\u001b[0;34m=\u001b[0m\u001b[0msub_test\u001b[0m\u001b[0;34m)\u001b[0m\u001b[0;34m\u001b[0m\u001b[0m\n\u001b[0m",
      "\u001b[0;32m<ipython-input-25-b2393c435cd0>\u001b[0m in \u001b[0;36mmain\u001b[0;34m(train_df, test_df, debug)\u001b[0m\n\u001b[1;32m     36\u001b[0m \u001b[0;32mdef\u001b[0m \u001b[0mmain\u001b[0m\u001b[0;34m(\u001b[0m\u001b[0mtrain_df\u001b[0m\u001b[0;34m,\u001b[0m \u001b[0mtest_df\u001b[0m\u001b[0;34m,\u001b[0m\u001b[0mdebug\u001b[0m\u001b[0;34m=\u001b[0m\u001b[0;32mFalse\u001b[0m\u001b[0;34m)\u001b[0m\u001b[0;34m:\u001b[0m\u001b[0;34m\u001b[0m\u001b[0m\n\u001b[1;32m     37\u001b[0m     \u001b[0;32mwith\u001b[0m \u001b[0mtimer\u001b[0m\u001b[0;34m(\u001b[0m\u001b[0;34m\"Run LightGBM with kfold\"\u001b[0m\u001b[0;34m)\u001b[0m\u001b[0;34m:\u001b[0m\u001b[0;34m\u001b[0m\u001b[0m\n\u001b[0;32m---> 38\u001b[0;31m         \u001b[0mfeat_importance\u001b[0m \u001b[0;34m=\u001b[0m \u001b[0mkfold_lightgbm\u001b[0m\u001b[0;34m(\u001b[0m\u001b[0mtrain_df\u001b[0m\u001b[0;34m,\u001b[0m \u001b[0mtest_df\u001b[0m\u001b[0;34m,\u001b[0m \u001b[0mnum_folds\u001b[0m\u001b[0;34m=\u001b[0m \u001b[0;36m5\u001b[0m\u001b[0;34m,\u001b[0m \u001b[0mstratified\u001b[0m\u001b[0;34m=\u001b[0m \u001b[0;32mFalse\u001b[0m\u001b[0;34m,\u001b[0m \u001b[0mdebug\u001b[0m\u001b[0;34m=\u001b[0m \u001b[0mdebug\u001b[0m\u001b[0;34m)\u001b[0m\u001b[0;34m\u001b[0m\u001b[0m\n\u001b[0m\u001b[1;32m     39\u001b[0m \u001b[0;34m\u001b[0m\u001b[0m\n\u001b[1;32m     40\u001b[0m \u001b[0;32mdef\u001b[0m \u001b[0mmain_10\u001b[0m\u001b[0;34m(\u001b[0m\u001b[0mtrain_df\u001b[0m\u001b[0;34m,\u001b[0m \u001b[0mtest_df\u001b[0m\u001b[0;34m,\u001b[0m\u001b[0mdebug\u001b[0m\u001b[0;34m=\u001b[0m\u001b[0;32mFalse\u001b[0m\u001b[0;34m)\u001b[0m\u001b[0;34m:\u001b[0m\u001b[0;34m\u001b[0m\u001b[0m\n",
      "\u001b[0;32m<ipython-input-24-dbfbab21f569>\u001b[0m in \u001b[0;36mkfold_lightgbm\u001b[0;34m(train_df, test_df, num_folds, stratified, debug)\u001b[0m\n\u001b[1;32m    264\u001b[0m \u001b[0;34m\u001b[0m\u001b[0m\n\u001b[1;32m    265\u001b[0m         clf.fit(train_x, train_y, eval_set=[(train_x, train_y), (valid_x, valid_y)], \n\u001b[0;32m--> 266\u001b[0;31m             eval_metric= 'auc', verbose= 100, early_stopping_rounds= 200)\n\u001b[0m\u001b[1;32m    267\u001b[0m \u001b[0;34m\u001b[0m\u001b[0m\n\u001b[1;32m    268\u001b[0m         \u001b[0moof_preds\u001b[0m\u001b[0;34m[\u001b[0m\u001b[0mvalid_idx\u001b[0m\u001b[0;34m]\u001b[0m \u001b[0;34m=\u001b[0m \u001b[0mclf\u001b[0m\u001b[0;34m.\u001b[0m\u001b[0mpredict_proba\u001b[0m\u001b[0;34m(\u001b[0m\u001b[0mvalid_x\u001b[0m\u001b[0;34m,\u001b[0m \u001b[0mnum_iteration\u001b[0m\u001b[0;34m=\u001b[0m\u001b[0mclf\u001b[0m\u001b[0;34m.\u001b[0m\u001b[0mbest_iteration_\u001b[0m\u001b[0;34m)\u001b[0m\u001b[0;34m[\u001b[0m\u001b[0;34m:\u001b[0m\u001b[0;34m,\u001b[0m \u001b[0;36m1\u001b[0m\u001b[0;34m]\u001b[0m\u001b[0;34m\u001b[0m\u001b[0m\n",
      "\u001b[0;32m/Library/Frameworks/Python.framework/Versions/3.6/lib/python3.6/site-packages/lightgbm/sklearn.py\u001b[0m in \u001b[0;36mfit\u001b[0;34m(self, X, y, sample_weight, init_score, eval_set, eval_names, eval_sample_weight, eval_class_weight, eval_init_score, eval_metric, early_stopping_rounds, verbose, feature_name, categorical_feature, callbacks)\u001b[0m\n\u001b[1;32m    693\u001b[0m                                         \u001b[0mverbose\u001b[0m\u001b[0;34m=\u001b[0m\u001b[0mverbose\u001b[0m\u001b[0;34m,\u001b[0m \u001b[0mfeature_name\u001b[0m\u001b[0;34m=\u001b[0m\u001b[0mfeature_name\u001b[0m\u001b[0;34m,\u001b[0m\u001b[0;34m\u001b[0m\u001b[0m\n\u001b[1;32m    694\u001b[0m                                         \u001b[0mcategorical_feature\u001b[0m\u001b[0;34m=\u001b[0m\u001b[0mcategorical_feature\u001b[0m\u001b[0;34m,\u001b[0m\u001b[0;34m\u001b[0m\u001b[0m\n\u001b[0;32m--> 695\u001b[0;31m                                         callbacks=callbacks)\n\u001b[0m\u001b[1;32m    696\u001b[0m         \u001b[0;32mreturn\u001b[0m \u001b[0mself\u001b[0m\u001b[0;34m\u001b[0m\u001b[0m\n\u001b[1;32m    697\u001b[0m \u001b[0;34m\u001b[0m\u001b[0m\n",
      "\u001b[0;32m/Library/Frameworks/Python.framework/Versions/3.6/lib/python3.6/site-packages/lightgbm/sklearn.py\u001b[0m in \u001b[0;36mfit\u001b[0;34m(self, X, y, sample_weight, init_score, group, eval_set, eval_names, eval_sample_weight, eval_class_weight, eval_init_score, eval_group, eval_metric, early_stopping_rounds, verbose, feature_name, categorical_feature, callbacks)\u001b[0m\n\u001b[1;32m    472\u001b[0m                               \u001b[0mverbose_eval\u001b[0m\u001b[0;34m=\u001b[0m\u001b[0mverbose\u001b[0m\u001b[0;34m,\u001b[0m \u001b[0mfeature_name\u001b[0m\u001b[0;34m=\u001b[0m\u001b[0mfeature_name\u001b[0m\u001b[0;34m,\u001b[0m\u001b[0;34m\u001b[0m\u001b[0m\n\u001b[1;32m    473\u001b[0m                               \u001b[0mcategorical_feature\u001b[0m\u001b[0;34m=\u001b[0m\u001b[0mcategorical_feature\u001b[0m\u001b[0;34m,\u001b[0m\u001b[0;34m\u001b[0m\u001b[0m\n\u001b[0;32m--> 474\u001b[0;31m                               callbacks=callbacks)\n\u001b[0m\u001b[1;32m    475\u001b[0m \u001b[0;34m\u001b[0m\u001b[0m\n\u001b[1;32m    476\u001b[0m         \u001b[0;32mif\u001b[0m \u001b[0mevals_result\u001b[0m\u001b[0;34m:\u001b[0m\u001b[0;34m\u001b[0m\u001b[0m\n",
      "\u001b[0;32m/Library/Frameworks/Python.framework/Versions/3.6/lib/python3.6/site-packages/lightgbm/engine.py\u001b[0m in \u001b[0;36mtrain\u001b[0;34m(params, train_set, num_boost_round, valid_sets, valid_names, fobj, feval, init_model, feature_name, categorical_feature, early_stopping_rounds, evals_result, verbose_eval, learning_rates, keep_training_booster, callbacks)\u001b[0m\n\u001b[1;32m    202\u001b[0m                                     evaluation_result_list=None))\n\u001b[1;32m    203\u001b[0m \u001b[0;34m\u001b[0m\u001b[0m\n\u001b[0;32m--> 204\u001b[0;31m         \u001b[0mbooster\u001b[0m\u001b[0;34m.\u001b[0m\u001b[0mupdate\u001b[0m\u001b[0;34m(\u001b[0m\u001b[0mfobj\u001b[0m\u001b[0;34m=\u001b[0m\u001b[0mfobj\u001b[0m\u001b[0;34m)\u001b[0m\u001b[0;34m\u001b[0m\u001b[0m\n\u001b[0m\u001b[1;32m    205\u001b[0m \u001b[0;34m\u001b[0m\u001b[0m\n\u001b[1;32m    206\u001b[0m         \u001b[0mevaluation_result_list\u001b[0m \u001b[0;34m=\u001b[0m \u001b[0;34m[\u001b[0m\u001b[0;34m]\u001b[0m\u001b[0;34m\u001b[0m\u001b[0m\n",
      "\u001b[0;32m/Library/Frameworks/Python.framework/Versions/3.6/lib/python3.6/site-packages/lightgbm/basic.py\u001b[0m in \u001b[0;36mupdate\u001b[0;34m(self, train_set, fobj)\u001b[0m\n\u001b[1;32m   1526\u001b[0m             _safe_call(_LIB.LGBM_BoosterUpdateOneIter(\n\u001b[1;32m   1527\u001b[0m                 \u001b[0mself\u001b[0m\u001b[0;34m.\u001b[0m\u001b[0mhandle\u001b[0m\u001b[0;34m,\u001b[0m\u001b[0;34m\u001b[0m\u001b[0m\n\u001b[0;32m-> 1528\u001b[0;31m                 ctypes.byref(is_finished)))\n\u001b[0m\u001b[1;32m   1529\u001b[0m             \u001b[0mself\u001b[0m\u001b[0;34m.\u001b[0m\u001b[0m__is_predicted_cur_iter\u001b[0m \u001b[0;34m=\u001b[0m \u001b[0;34m[\u001b[0m\u001b[0;32mFalse\u001b[0m \u001b[0;32mfor\u001b[0m \u001b[0m_\u001b[0m \u001b[0;32min\u001b[0m \u001b[0mrange_\u001b[0m\u001b[0;34m(\u001b[0m\u001b[0mself\u001b[0m\u001b[0;34m.\u001b[0m\u001b[0m__num_dataset\u001b[0m\u001b[0;34m)\u001b[0m\u001b[0;34m]\u001b[0m\u001b[0;34m\u001b[0m\u001b[0m\n\u001b[1;32m   1530\u001b[0m             \u001b[0;32mreturn\u001b[0m \u001b[0mis_finished\u001b[0m\u001b[0;34m.\u001b[0m\u001b[0mvalue\u001b[0m \u001b[0;34m==\u001b[0m \u001b[0;36m1\u001b[0m\u001b[0;34m\u001b[0m\u001b[0m\n",
      "\u001b[0;31mKeyboardInterrupt\u001b[0m: "
     ]
    }
   ],
   "source": [
    "top_num = 100\n",
    "feature_set_train = [v for v in variables[np.argsort(-scores)][0:top_num] if v != 'SK_ID_CURR'] # 0 is target\n",
    "feature_set_test = [v for v in variables[np.argsort(-scores)][1:top_num] if v != 'SK_ID_CURR'] \n",
    "sub_train = full.query('TARGET.notna()')[feature_set_train].reset_index() # make 'SK_ID_CURR' a feature again\n",
    "sub_test = full.query('TARGET.isna()')[feature_set_test].reset_index()\n",
    "submission_file_name = \"submission_0823_100.csv\"\n",
    "with timer(\"Full model run\"):\n",
    "    main(train_df=sub_train , test_df=sub_test)"
   ]
  },
  {
   "cell_type": "markdown",
   "metadata": {},
   "source": [
    "## 5 fold 600 features"
   ]
  },
  {
   "cell_type": "code",
   "execution_count": 31,
   "metadata": {},
   "outputs": [
    {
     "data": {
      "text/plain": [
       "array([0.02270599, 0.02270599, 0.02270599, 0.02264953, 0.02261162,\n",
       "       0.02249934, 0.02242437, 0.02204474, 0.02204119, 0.02202703,\n",
       "       0.0220235 , 0.02200581, 0.02192771, 0.02170783, 0.02137869,\n",
       "       0.02136823, 0.02133131, 0.02125357, 0.02086191, 0.02053641,\n",
       "       0.02031431, 0.02014387, 0.0200303 , 0.01987966, 0.0195324 ,\n",
       "       0.01951811, 0.01927783, 0.01901417, 0.01898446, 0.01896158])"
      ]
     },
     "execution_count": 31,
     "metadata": {},
     "output_type": "execute_result"
    }
   ],
   "source": [
    "scores[np.argsort(-scores)][570:600]"
   ]
  },
  {
   "cell_type": "code",
   "execution_count": 32,
   "metadata": {},
   "outputs": [
    {
     "name": "stdout",
     "output_type": "stream",
     "text": [
      "Starting LightGBM. Train shape: (307507, 601), test shape: (48744, 600)\n",
      "Training until validation scores don't improve for 200 rounds.\n",
      "[100]\ttraining's auc: 0.776959\tvalid_1's auc: 0.764138\n",
      "[200]\ttraining's auc: 0.800138\tvalid_1's auc: 0.779203\n",
      "[300]\ttraining's auc: 0.813384\tvalid_1's auc: 0.784975\n",
      "[400]\ttraining's auc: 0.823499\tvalid_1's auc: 0.788428\n",
      "[500]\ttraining's auc: 0.832032\tvalid_1's auc: 0.790333\n",
      "[600]\ttraining's auc: 0.839628\tvalid_1's auc: 0.791275\n",
      "[700]\ttraining's auc: 0.846631\tvalid_1's auc: 0.79197\n",
      "[800]\ttraining's auc: 0.852638\tvalid_1's auc: 0.792422\n",
      "[900]\ttraining's auc: 0.858338\tvalid_1's auc: 0.792762\n",
      "[1000]\ttraining's auc: 0.863725\tvalid_1's auc: 0.792941\n",
      "[1100]\ttraining's auc: 0.86912\tvalid_1's auc: 0.793318\n",
      "[1200]\ttraining's auc: 0.874188\tvalid_1's auc: 0.793413\n",
      "[1300]\ttraining's auc: 0.878806\tvalid_1's auc: 0.793525\n",
      "[1400]\ttraining's auc: 0.883381\tvalid_1's auc: 0.79352\n",
      "[1500]\ttraining's auc: 0.887799\tvalid_1's auc: 0.793432\n",
      "[1600]\ttraining's auc: 0.891939\tvalid_1's auc: 0.793552\n",
      "[1700]\ttraining's auc: 0.895753\tvalid_1's auc: 0.793703\n",
      "[1800]\ttraining's auc: 0.899629\tvalid_1's auc: 0.793636\n",
      "[1900]\ttraining's auc: 0.903197\tvalid_1's auc: 0.793603\n",
      "Early stopping, best iteration is:\n",
      "[1712]\ttraining's auc: 0.896215\tvalid_1's auc: 0.793718\n",
      "Fold  1 AUC : 0.793718\n",
      "Training until validation scores don't improve for 200 rounds.\n",
      "[100]\ttraining's auc: 0.778348\tvalid_1's auc: 0.758985\n",
      "[200]\ttraining's auc: 0.80091\tvalid_1's auc: 0.774027\n",
      "[300]\ttraining's auc: 0.814413\tvalid_1's auc: 0.78109\n",
      "[400]\ttraining's auc: 0.82438\tvalid_1's auc: 0.784684\n",
      "[500]\ttraining's auc: 0.832717\tvalid_1's auc: 0.786604\n",
      "[600]\ttraining's auc: 0.840029\tvalid_1's auc: 0.787561\n",
      "[700]\ttraining's auc: 0.846731\tvalid_1's auc: 0.788469\n",
      "[800]\ttraining's auc: 0.853053\tvalid_1's auc: 0.789015\n",
      "[900]\ttraining's auc: 0.858917\tvalid_1's auc: 0.789459\n",
      "[1000]\ttraining's auc: 0.86452\tvalid_1's auc: 0.789605\n",
      "[1100]\ttraining's auc: 0.869621\tvalid_1's auc: 0.789759\n",
      "[1200]\ttraining's auc: 0.874651\tvalid_1's auc: 0.789906\n",
      "[1300]\ttraining's auc: 0.879541\tvalid_1's auc: 0.789976\n",
      "[1400]\ttraining's auc: 0.884123\tvalid_1's auc: 0.789892\n",
      "Early stopping, best iteration is:\n",
      "[1252]\ttraining's auc: 0.877345\tvalid_1's auc: 0.790028\n",
      "Fold  2 AUC : 0.790028\n",
      "Training until validation scores don't improve for 200 rounds.\n",
      "[100]\ttraining's auc: 0.777655\tvalid_1's auc: 0.758889\n",
      "[200]\ttraining's auc: 0.800605\tvalid_1's auc: 0.774412\n",
      "[300]\ttraining's auc: 0.814173\tvalid_1's auc: 0.78111\n",
      "[400]\ttraining's auc: 0.824172\tvalid_1's auc: 0.784246\n",
      "[500]\ttraining's auc: 0.832895\tvalid_1's auc: 0.786214\n",
      "[600]\ttraining's auc: 0.840172\tvalid_1's auc: 0.787534\n",
      "[700]\ttraining's auc: 0.847025\tvalid_1's auc: 0.788288\n",
      "[800]\ttraining's auc: 0.853219\tvalid_1's auc: 0.788935\n",
      "[900]\ttraining's auc: 0.858884\tvalid_1's auc: 0.789224\n",
      "[1000]\ttraining's auc: 0.864271\tvalid_1's auc: 0.789443\n",
      "[1100]\ttraining's auc: 0.869321\tvalid_1's auc: 0.789622\n",
      "[1200]\ttraining's auc: 0.874089\tvalid_1's auc: 0.789617\n",
      "[1300]\ttraining's auc: 0.878615\tvalid_1's auc: 0.789657\n",
      "[1400]\ttraining's auc: 0.88289\tvalid_1's auc: 0.789708\n",
      "[1500]\ttraining's auc: 0.887127\tvalid_1's auc: 0.789941\n",
      "[1600]\ttraining's auc: 0.891111\tvalid_1's auc: 0.789943\n",
      "[1700]\ttraining's auc: 0.894927\tvalid_1's auc: 0.789966\n",
      "[1800]\ttraining's auc: 0.898497\tvalid_1's auc: 0.789906\n",
      "Early stopping, best iteration is:\n",
      "[1674]\ttraining's auc: 0.89397\tvalid_1's auc: 0.789997\n",
      "Fold  3 AUC : 0.789997\n",
      "Training until validation scores don't improve for 200 rounds.\n",
      "[100]\ttraining's auc: 0.77783\tvalid_1's auc: 0.759033\n",
      "[200]\ttraining's auc: 0.801022\tvalid_1's auc: 0.77344\n",
      "[300]\ttraining's auc: 0.814136\tvalid_1's auc: 0.780067\n",
      "[400]\ttraining's auc: 0.824103\tvalid_1's auc: 0.783441\n",
      "[500]\ttraining's auc: 0.832703\tvalid_1's auc: 0.78536\n",
      "[600]\ttraining's auc: 0.840272\tvalid_1's auc: 0.786751\n",
      "[700]\ttraining's auc: 0.84715\tvalid_1's auc: 0.787572\n",
      "[800]\ttraining's auc: 0.853276\tvalid_1's auc: 0.787858\n",
      "[900]\ttraining's auc: 0.859069\tvalid_1's auc: 0.788283\n",
      "[1000]\ttraining's auc: 0.864534\tvalid_1's auc: 0.788571\n",
      "[1100]\ttraining's auc: 0.869662\tvalid_1's auc: 0.788751\n",
      "[1200]\ttraining's auc: 0.874566\tvalid_1's auc: 0.788967\n",
      "[1300]\ttraining's auc: 0.879082\tvalid_1's auc: 0.789169\n",
      "[1400]\ttraining's auc: 0.883482\tvalid_1's auc: 0.789193\n",
      "[1500]\ttraining's auc: 0.887617\tvalid_1's auc: 0.789214\n",
      "[1600]\ttraining's auc: 0.891909\tvalid_1's auc: 0.789182\n",
      "[1700]\ttraining's auc: 0.895808\tvalid_1's auc: 0.789009\n",
      "Early stopping, best iteration is:\n",
      "[1525]\ttraining's auc: 0.888797\tvalid_1's auc: 0.789297\n",
      "Fold  4 AUC : 0.789297\n",
      "Training until validation scores don't improve for 200 rounds.\n",
      "[100]\ttraining's auc: 0.776822\tvalid_1's auc: 0.761252\n",
      "[200]\ttraining's auc: 0.800111\tvalid_1's auc: 0.777862\n",
      "[300]\ttraining's auc: 0.813706\tvalid_1's auc: 0.784948\n",
      "[400]\ttraining's auc: 0.823779\tvalid_1's auc: 0.788717\n",
      "[500]\ttraining's auc: 0.832443\tvalid_1's auc: 0.790597\n",
      "[600]\ttraining's auc: 0.84016\tvalid_1's auc: 0.791611\n",
      "[700]\ttraining's auc: 0.847014\tvalid_1's auc: 0.79227\n",
      "[800]\ttraining's auc: 0.853503\tvalid_1's auc: 0.792527\n",
      "[900]\ttraining's auc: 0.859284\tvalid_1's auc: 0.792675\n",
      "[1000]\ttraining's auc: 0.864755\tvalid_1's auc: 0.792955\n",
      "[1100]\ttraining's auc: 0.869974\tvalid_1's auc: 0.793231\n",
      "[1200]\ttraining's auc: 0.874948\tvalid_1's auc: 0.793456\n",
      "[1300]\ttraining's auc: 0.879609\tvalid_1's auc: 0.793521\n",
      "[1400]\ttraining's auc: 0.884075\tvalid_1's auc: 0.793665\n",
      "[1500]\ttraining's auc: 0.888441\tvalid_1's auc: 0.793901\n",
      "[1600]\ttraining's auc: 0.892495\tvalid_1's auc: 0.793938\n",
      "[1700]\ttraining's auc: 0.89653\tvalid_1's auc: 0.793902\n",
      "Early stopping, best iteration is:\n",
      "[1584]\ttraining's auc: 0.891956\tvalid_1's auc: 0.793985\n",
      "Fold  5 AUC : 0.793985\n",
      "Full AUC score 0.791399\n",
      "Run LightGBM with kfold - done in 4660s\n",
      "Full model run - done in 4660s\n"
     ]
    },
    {
     "data": {
      "image/png": "[encoded data removed]",
      "text/plain": [
       "<matplotlib.figure.Figure at 0x10ea4d7f0>"
      ]
     },
     "metadata": {},
     "output_type": "display_data"
    }
   ],
   "source": [
    "top_num = 600\n",
    "feature_set_train = [v for v in variables[np.argsort(-scores)][0:top_num] if v != 'SK_ID_CURR'] # 0 is target\n",
    "feature_set_test = [v for v in variables[np.argsort(-scores)][1:top_num] if v != 'SK_ID_CURR'] \n",
    "sub_train = full.query('TARGET.notna()')[feature_set_train].reset_index() # make 'SK_ID_CURR' a feature again\n",
    "sub_test = full.query('TARGET.isna()')[feature_set_test].reset_index()\n",
    "submission_file_name = \"submission_0823_600.csv\"\n",
    "with timer(\"Full model run\"):\n",
    "    main(train_df=sub_train , test_df=sub_test)"
   ]
  },
  {
   "cell_type": "code",
   "execution_count": null,
   "metadata": {},
   "outputs": [],
   "source": []
  }
 ],
 "metadata": {
  "kernelspec": {
   "display_name": "Python [default]",
   "language": "python",
   "name": "python3"
  },
  "language_info": {
   "codemirror_mode": {
    "name": "ipython",
    "version": 3
   },
   "file_extension": ".py",
   "mimetype": "text/x-python",
   "name": "python",
   "nbconvert_exporter": "python",
   "pygments_lexer": "ipython3",
   "version": "3.6.3"
  }
 },
 "nbformat": 4,
 "nbformat_minor": 2
}
