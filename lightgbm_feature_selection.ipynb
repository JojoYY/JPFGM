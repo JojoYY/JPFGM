{
 "cells": [
  {
   "cell_type": "markdown",
   "metadata": {},
   "source": [
    "# LightGBM for prediction"
   ]
  },
  {
   "cell_type": "markdown",
   "metadata": {},
   "source": [
    "## Load pre-processed data"
   ]
  },
  {
   "cell_type": "code",
   "execution_count": 1,
   "metadata": {},
   "outputs": [],
   "source": [
    "import numpy as np\n",
    "import pandas as pd\n",
    "\n",
    "import basic_application_data_cleaner as cleaner\n",
    "\n",
    "import matplotlib.pyplot as plt\n",
    "% matplotlib inline\n",
    "\n",
    "import warnings\n",
    "warnings.simplefilter(\"ignore\", DeprecationWarning)"
   ]
  },
  {
   "cell_type": "code",
   "execution_count": 2,
   "metadata": {},
   "outputs": [
    {
     "name": "stdout",
     "output_type": "stream",
     "text": [
      "Raw training data size: (307511, 121)\n",
      "Raw test data size: (48744, 120)\n",
      "Cleaned training data shape:  (307511, 246)\n",
      "Cleaned testing data shape:  (48744, 245)\n"
     ]
    }
   ],
   "source": [
    "path_to_kaggle_data='~/kaggle_JPFGM/Data/'  # location of all the unzipped data files on local machine\n",
    "\n",
    "# cleaned application data (truncated outliers, imputed missing values, one-hot-encoded categorical features)\n",
    "df_train, df_test = cleaner.load_cleaned_application_data(path_to_kaggle_data)"
   ]
  },
  {
   "cell_type": "markdown",
   "metadata": {},
   "source": [
    "## Create train and validation sets"
   ]
  },
  {
   "cell_type": "code",
   "execution_count": 3,
   "metadata": {},
   "outputs": [],
   "source": [
    "from sklearn.model_selection import train_test_split"
   ]
  },
  {
   "cell_type": "code",
   "execution_count": 4,
   "metadata": {},
   "outputs": [],
   "source": [
    "def create_train_val_set(train_data, frac_eval):\n",
    "    \"\"\"Create separate training and testing features and labels.\n",
    "    \n",
    "    Parameters\n",
    "    ----------\n",
    "    train_data: pandas dataframe with 'TARGET' column and feature columns (and SK_ID index)\n",
    "    frac_eval: between 0 and 1. Fraction of data to be split for evaluation\n",
    "    \"\"\"\n",
    "    X = train_data.drop(['TARGET'], axis=1)\n",
    "    y = train_data['TARGET']\n",
    "    \n",
    "    # Create train and validation sets in stratified way\n",
    "    print('Creating training and validation dataframes:')\n",
    "    X_train, X_val, y_train, y_val = train_test_split(X, y, test_size=frac_eval, stratify=y, random_state=42)\n",
    "    print('\\ttraining data size:', X_train.shape)\n",
    "    print('\\ttesting data size:', X_val.shape)\n",
    "    print('\\tpositive labels in training data: %.4f%%' % (100*sum(y_train==1)/len(y_train)))\n",
    "    print('\\tpositive labels in validation data: %.4f%%' % (100*sum(y_val==1)/len(y_val)))\n",
    "    return X_train, X_val, y_train, y_val"
   ]
  },
  {
   "cell_type": "code",
   "execution_count": 5,
   "metadata": {},
   "outputs": [
    {
     "name": "stdout",
     "output_type": "stream",
     "text": [
      "Creating training and validation dataframes:\n",
      "\ttraining data size: (276759, 245)\n",
      "\ttesting data size: (30752, 245)\n",
      "\tpositive labels in training data: 8.0727%\n",
      "\tpositive labels in validation data: 8.0743%\n"
     ]
    }
   ],
   "source": [
    "# split cleaned data set\n",
    "X_train, X_val, y_train, y_val = create_train_val_set(df_train, 0.1)"
   ]
  },
  {
   "cell_type": "markdown",
   "metadata": {},
   "source": [
    "## Fit LightGBM model on pre-processed data"
   ]
  },
  {
   "cell_type": "code",
   "execution_count": 6,
   "metadata": {},
   "outputs": [],
   "source": [
    "import time\n",
    "\n",
    "from sklearn.metrics import roc_auc_score, roc_curve, accuracy_score\n",
    "from sklearn.model_selection import GridSearchCV\n",
    "\n",
    "import lightgbm as lgb"
   ]
  },
  {
   "cell_type": "markdown",
   "metadata": {},
   "source": [
    "### Simple LightGBM model\n",
    "Attention: lightgbm.LGBMClassifier by default does not do regularization"
   ]
  },
  {
   "cell_type": "code",
   "execution_count": 42,
   "metadata": {},
   "outputs": [
    {
     "name": "stdout",
     "output_type": "stream",
     "text": [
      "Training until validation scores don't improve for 10 rounds.\n",
      "[10]\ttraining's auc: 0.747937\tvalid_1's auc: 0.736244\n",
      "[20]\ttraining's auc: 0.756918\tvalid_1's auc: 0.744184\n",
      "[30]\ttraining's auc: 0.764791\tvalid_1's auc: 0.749783\n",
      "[40]\ttraining's auc: 0.770787\tvalid_1's auc: 0.753265\n",
      "[50]\ttraining's auc: 0.775708\tvalid_1's auc: 0.755417\n",
      "[60]\ttraining's auc: 0.779898\tvalid_1's auc: 0.756681\n",
      "[70]\ttraining's auc: 0.78376\tvalid_1's auc: 0.757713\n",
      "[80]\ttraining's auc: 0.787305\tvalid_1's auc: 0.758531\n",
      "[90]\ttraining's auc: 0.790421\tvalid_1's auc: 0.758647\n",
      "Early stopping, best iteration is:\n",
      "[84]\ttraining's auc: 0.788654\tvalid_1's auc: 0.758782\n"
     ]
    },
    {
     "data": {
      "text/plain": [
       "LGBMClassifier(boosting_type='gbdt', class_weight=None, colsample_bytree=1.0,\n",
       "        is_unbalance=True, learning_rate=0.1, max_depth=-1,\n",
       "        min_child_samples=20, min_child_weight=0.001, min_split_gain=0.0,\n",
       "        n_estimators=100, n_jobs=-1, num_leaves=31, objective='binary',\n",
       "        random_state=None, reg_alpha=0.0, reg_lambda=1, silent=True,\n",
       "        subsample=1.0, subsample_for_bin=200000, subsample_freq=0)"
      ]
     },
     "execution_count": 42,
     "metadata": {},
     "output_type": "execute_result"
    }
   ],
   "source": [
    "# Train sklearn wrapper lgb, with reasonable parameters and early stopping\n",
    "# this runs very fast (seconds for 100 n_estimators)\n",
    "lgb_clf = lgb.LGBMClassifier(objective='binary',\n",
    "                             is_unbalance=True,\n",
    "                             silent=True,\n",
    "                             reg_lambda=1\n",
    "                            )  # by default trains 100 trees\n",
    "\n",
    "lgb_clf.fit(X_train, y_train,\n",
    "            eval_set=[(X_train, y_train), (X_val, y_val)],\n",
    "            eval_metric='auc',\n",
    "            early_stopping_rounds=10,\n",
    "            verbose=10)"
   ]
  },
  {
   "cell_type": "markdown",
   "metadata": {},
   "source": [
    "### Grid Search Parameters\n",
    "\n",
    "To use sklearn's gridsearch function, need to use sklearn wrapper for lightGB\n",
    "Attention: grid search takes a long time to run!"
   ]
  },
  {
   "cell_type": "code",
   "execution_count": 45,
   "metadata": {},
   "outputs": [
    {
     "data": {
      "text/plain": [
       "GridSearchCV(cv=4, error_score='raise',\n",
       "       estimator=LGBMClassifier(boosting_type='gbdt', class_weight=None, colsample_bytree=1.0,\n",
       "        is_unbalance=True, learning_rate=0.1, max_depth=-1,\n",
       "        min_child_samples=20, min_child_weight=0.001, min_split_gain=0.0,\n",
       "        n_estimators=100, n_jobs=-1, num_leaves=31, objective='binary',\n",
       "        random_state=None, reg_alpha=0.0, reg_lambda=0.0, silent=True,\n",
       "        subsample=1.0, subsample_for_bin=200000, subsample_freq=0),\n",
       "       fit_params=None, iid=True, n_jobs=2,\n",
       "       param_grid={'learning_rate': [0.01, 0.1, 1], 'n_estimators': [40, 100], 'reg_lambda': [0.1, 1]},\n",
       "       pre_dispatch='2*n_jobs', refit=True, return_train_score='warn',\n",
       "       scoring='roc_auc', verbose=0)"
      ]
     },
     "execution_count": 45,
     "metadata": {},
     "output_type": "execute_result"
    }
   ],
   "source": [
    "# Grid search with cross validation on all labelled data\n",
    "model = lgb.LGBMClassifier(objective='binary', is_unbalance=True, silent=True)\n",
    "\n",
    "param_grid = {\n",
    "    'learning_rate': [0.01, 0.1, 1],\n",
    "    'n_estimators': [40, 100],\n",
    "    'reg_lambda': [0.1, 1]\n",
    "}\n",
    "\n",
    "grid_clf = GridSearchCV(model,\n",
    "                        param_grid,\n",
    "                        scoring='roc_auc',\n",
    "                        verbose=0,\n",
    "                        cv=4,\n",
    "                        n_jobs=2)\n",
    "\n",
    "grid_clf.fit(X_train, y_train)"
   ]
  },
  {
   "cell_type": "code",
   "execution_count": 46,
   "metadata": {},
   "outputs": [
    {
     "name": "stdout",
     "output_type": "stream",
     "text": [
      "Best parameters found by grid search are: {'learning_rate': 0.1, 'n_estimators': 100, 'reg_lambda': 1}\n",
      "Best score found by grid search is: 0.7554568161384894\n"
     ]
    }
   ],
   "source": [
    "print('Best parameters found by grid search are:', grid_clf.best_params_)\n",
    "print('Best score found by grid search is:', grid_clf.best_score_)"
   ]
  },
  {
   "cell_type": "markdown",
   "metadata": {},
   "source": [
    "## Early stopping and CV with efficient lgb data structure"
   ]
  },
  {
   "cell_type": "code",
   "execution_count": 9,
   "metadata": {},
   "outputs": [],
   "source": [
    "lgb_train = lgb.Dataset(X_train, y_train)\n",
    "lgb_val = lgb.Dataset(X_val, y_val, reference=lgb_train)"
   ]
  },
  {
   "cell_type": "code",
   "execution_count": 92,
   "metadata": {},
   "outputs": [],
   "source": [
    "# Set hyperparameters other than number of boosting rounds\n",
    "param={'application': 'binary',  # for binary classification problem\n",
    "    'boosting': 'gbdt',  # traditional Gradient Boosting Decision Tree\n",
    "    'objective': 'binary',   # for binary classification problem\n",
    "    'metric': ['binary_logloss', 'auc'],  # metrics to output each round\n",
    "    #'is_unbalance': 'true',\n",
    "    'feature_fraction': 0.8,\n",
    "    'bagging_fraction': 0.8,\n",
    "    #'bagging_freq': 10,\n",
    "    'learning_rate': 0.01,\n",
    "    'num_leaves': 20, # default 31. lower to control overfitting\n",
    "    'reg_alpha': 5,\n",
    "    'reg_lambda': 10,\n",
    "    'verbose': 0\n",
    "}"
   ]
  },
  {
   "cell_type": "markdown",
   "metadata": {},
   "source": [
    "TODO:\n",
    "- check whether can use built-in cross validation on X_train for selecting early stopping round, instead of using the validation set. Then check performance on X_val in the end.\n",
    "- Can combine early stopping with grid search? either by putting early stopping into the model defined in grid search or by doing parameter search in lgb.train"
   ]
  },
  {
   "cell_type": "code",
   "execution_count": 93,
   "metadata": {},
   "outputs": [
    {
     "name": "stdout",
     "output_type": "stream",
     "text": [
      "Training until validation scores don't improve for 20 rounds.\n",
      "[5]\ttrain's auc: 0.725438\ttrain's binary_logloss: 0.278583\tval's auc: 0.719865\tval's binary_logloss: 0.278618\n",
      "[10]\ttrain's auc: 0.727428\ttrain's binary_logloss: 0.276491\tval's auc: 0.722651\tval's binary_logloss: 0.276569\n",
      "[15]\ttrain's auc: 0.730978\ttrain's binary_logloss: 0.27476\tval's auc: 0.726307\tval's binary_logloss: 0.274868\n",
      "[20]\ttrain's auc: 0.73114\ttrain's binary_logloss: 0.27313\tval's auc: 0.726134\tval's binary_logloss: 0.273285\n",
      "[25]\ttrain's auc: 0.730882\ttrain's binary_logloss: 0.271546\tval's auc: 0.725713\tval's binary_logloss: 0.271736\n",
      "[30]\ttrain's auc: 0.732583\ttrain's binary_logloss: 0.270251\tval's auc: 0.727236\tval's binary_logloss: 0.27048\n",
      "[35]\ttrain's auc: 0.733659\ttrain's binary_logloss: 0.269055\tval's auc: 0.728154\tval's binary_logloss: 0.269318\n",
      "[40]\ttrain's auc: 0.73364\ttrain's binary_logloss: 0.26786\tval's auc: 0.727995\tval's binary_logloss: 0.268168\n",
      "[45]\ttrain's auc: 0.734054\ttrain's binary_logloss: 0.266786\tval's auc: 0.728248\tval's binary_logloss: 0.267125\n",
      "[50]\ttrain's auc: 0.734379\ttrain's binary_logloss: 0.265787\tval's auc: 0.728337\tval's binary_logloss: 0.266169\n",
      "[55]\ttrain's auc: 0.734901\ttrain's binary_logloss: 0.264891\tval's auc: 0.72869\tval's binary_logloss: 0.265309\n",
      "[60]\ttrain's auc: 0.735009\ttrain's binary_logloss: 0.264005\tval's auc: 0.72875\tval's binary_logloss: 0.264455\n",
      "[65]\ttrain's auc: 0.735185\ttrain's binary_logloss: 0.263187\tval's auc: 0.728728\tval's binary_logloss: 0.26368\n",
      "[70]\ttrain's auc: 0.736039\ttrain's binary_logloss: 0.262493\tval's auc: 0.729538\tval's binary_logloss: 0.263012\n",
      "[75]\ttrain's auc: 0.736825\ttrain's binary_logloss: 0.261814\tval's auc: 0.730121\tval's binary_logloss: 0.262378\n",
      "[80]\ttrain's auc: 0.737343\ttrain's binary_logloss: 0.261151\tval's auc: 0.73055\tval's binary_logloss: 0.261749\n",
      "[85]\ttrain's auc: 0.737544\ttrain's binary_logloss: 0.260505\tval's auc: 0.730739\tval's binary_logloss: 0.26113\n",
      "[90]\ttrain's auc: 0.738081\ttrain's binary_logloss: 0.259913\tval's auc: 0.731187\tval's binary_logloss: 0.260572\n",
      "[95]\ttrain's auc: 0.738587\ttrain's binary_logloss: 0.259351\tval's auc: 0.731639\tval's binary_logloss: 0.260048\n",
      "[100]\ttrain's auc: 0.739036\ttrain's binary_logloss: 0.258823\tval's auc: 0.732083\tval's binary_logloss: 0.259544\n",
      "[105]\ttrain's auc: 0.739557\ttrain's binary_logloss: 0.258323\tval's auc: 0.732532\tval's binary_logloss: 0.259084\n",
      "[110]\ttrain's auc: 0.740188\ttrain's binary_logloss: 0.257851\tval's auc: 0.733012\tval's binary_logloss: 0.25865\n",
      "[115]\ttrain's auc: 0.740845\ttrain's binary_logloss: 0.257385\tval's auc: 0.73354\tval's binary_logloss: 0.25823\n",
      "[120]\ttrain's auc: 0.741112\ttrain's binary_logloss: 0.25696\tval's auc: 0.733727\tval's binary_logloss: 0.25784\n",
      "[125]\ttrain's auc: 0.74162\ttrain's binary_logloss: 0.256559\tval's auc: 0.734167\tval's binary_logloss: 0.257475\n",
      "[130]\ttrain's auc: 0.742\ttrain's binary_logloss: 0.25617\tval's auc: 0.734501\tval's binary_logloss: 0.257117\n",
      "[135]\ttrain's auc: 0.742426\ttrain's binary_logloss: 0.255798\tval's auc: 0.734847\tval's binary_logloss: 0.256781\n",
      "[140]\ttrain's auc: 0.742779\ttrain's binary_logloss: 0.255448\tval's auc: 0.735135\tval's binary_logloss: 0.256466\n",
      "[145]\ttrain's auc: 0.743109\ttrain's binary_logloss: 0.255105\tval's auc: 0.73539\tval's binary_logloss: 0.256159\n",
      "[150]\ttrain's auc: 0.743486\ttrain's binary_logloss: 0.254792\tval's auc: 0.735649\tval's binary_logloss: 0.255884\n",
      "[155]\ttrain's auc: 0.7438\ttrain's binary_logloss: 0.254484\tval's auc: 0.735862\tval's binary_logloss: 0.255612\n",
      "[160]\ttrain's auc: 0.744103\ttrain's binary_logloss: 0.254198\tval's auc: 0.736112\tval's binary_logloss: 0.25536\n",
      "[165]\ttrain's auc: 0.744535\ttrain's binary_logloss: 0.253899\tval's auc: 0.736496\tval's binary_logloss: 0.255089\n",
      "[170]\ttrain's auc: 0.744913\ttrain's binary_logloss: 0.253624\tval's auc: 0.736749\tval's binary_logloss: 0.254853\n",
      "[175]\ttrain's auc: 0.745262\ttrain's binary_logloss: 0.253358\tval's auc: 0.737034\tval's binary_logloss: 0.254618\n",
      "[180]\ttrain's auc: 0.745621\ttrain's binary_logloss: 0.253106\tval's auc: 0.737383\tval's binary_logloss: 0.254389\n",
      "[185]\ttrain's auc: 0.746107\ttrain's binary_logloss: 0.252839\tval's auc: 0.737769\tval's binary_logloss: 0.254157\n",
      "[190]\ttrain's auc: 0.74642\ttrain's binary_logloss: 0.252598\tval's auc: 0.738015\tval's binary_logloss: 0.253946\n",
      "[195]\ttrain's auc: 0.746903\ttrain's binary_logloss: 0.252363\tval's auc: 0.73837\tval's binary_logloss: 0.253754\n",
      "[200]\ttrain's auc: 0.747286\ttrain's binary_logloss: 0.252146\tval's auc: 0.738691\tval's binary_logloss: 0.253567\n",
      "[205]\ttrain's auc: 0.747772\ttrain's binary_logloss: 0.251924\tval's auc: 0.739085\tval's binary_logloss: 0.253378\n",
      "[210]\ttrain's auc: 0.748178\ttrain's binary_logloss: 0.251713\tval's auc: 0.739398\tval's binary_logloss: 0.253199\n",
      "[215]\ttrain's auc: 0.74864\ttrain's binary_logloss: 0.251502\tval's auc: 0.739753\tval's binary_logloss: 0.253021\n",
      "[220]\ttrain's auc: 0.749017\ttrain's binary_logloss: 0.251295\tval's auc: 0.74002\tval's binary_logloss: 0.252853\n",
      "[225]\ttrain's auc: 0.749427\ttrain's binary_logloss: 0.251098\tval's auc: 0.740341\tval's binary_logloss: 0.252687\n",
      "[230]\ttrain's auc: 0.74988\ttrain's binary_logloss: 0.250906\tval's auc: 0.740702\tval's binary_logloss: 0.252526\n",
      "[235]\ttrain's auc: 0.750249\ttrain's binary_logloss: 0.250727\tval's auc: 0.740995\tval's binary_logloss: 0.252376\n",
      "[240]\ttrain's auc: 0.750665\ttrain's binary_logloss: 0.250539\tval's auc: 0.741328\tval's binary_logloss: 0.252221\n",
      "[245]\ttrain's auc: 0.751\ttrain's binary_logloss: 0.250369\tval's auc: 0.741558\tval's binary_logloss: 0.252084\n",
      "[250]\ttrain's auc: 0.751342\ttrain's binary_logloss: 0.250203\tval's auc: 0.741843\tval's binary_logloss: 0.251946\n",
      "[255]\ttrain's auc: 0.751731\ttrain's binary_logloss: 0.250034\tval's auc: 0.742142\tval's binary_logloss: 0.25181\n",
      "[260]\ttrain's auc: 0.752164\ttrain's binary_logloss: 0.249859\tval's auc: 0.742481\tval's binary_logloss: 0.25167\n",
      "[265]\ttrain's auc: 0.752556\ttrain's binary_logloss: 0.249701\tval's auc: 0.742787\tval's binary_logloss: 0.251542\n",
      "[270]\ttrain's auc: 0.752826\ttrain's binary_logloss: 0.249561\tval's auc: 0.742975\tval's binary_logloss: 0.251432\n",
      "[275]\ttrain's auc: 0.753223\ttrain's binary_logloss: 0.249408\tval's auc: 0.743304\tval's binary_logloss: 0.251303\n",
      "[280]\ttrain's auc: 0.753574\ttrain's binary_logloss: 0.249261\tval's auc: 0.743587\tval's binary_logloss: 0.251182\n",
      "[285]\ttrain's auc: 0.753932\ttrain's binary_logloss: 0.249119\tval's auc: 0.743869\tval's binary_logloss: 0.251072\n",
      "[290]\ttrain's auc: 0.754261\ttrain's binary_logloss: 0.248984\tval's auc: 0.744119\tval's binary_logloss: 0.250968\n",
      "[295]\ttrain's auc: 0.754607\ttrain's binary_logloss: 0.248848\tval's auc: 0.744385\tval's binary_logloss: 0.250865\n",
      "[300]\ttrain's auc: 0.754942\ttrain's binary_logloss: 0.24871\tval's auc: 0.744665\tval's binary_logloss: 0.250754\n",
      "Did not meet early stopping. Best iteration is:\n",
      "[300]\ttrain's auc: 0.754942\ttrain's binary_logloss: 0.24871\tval's auc: 0.744665\tval's binary_logloss: 0.250754\n",
      "Execution time: 26.2 seconds\n"
     ]
    }
   ],
   "source": [
    "# Early stopping for fixed set of parameters\n",
    "\n",
    "evals_result = {}\n",
    "start = time.time()\n",
    "\n",
    "gbm = lgb.train(param,\n",
    "                lgb_train,\n",
    "                num_boost_round=300,\n",
    "                valid_sets=[lgb_train, lgb_val],\n",
    "                valid_names=['train', 'val'],\n",
    "                evals_result=evals_result,\n",
    "                early_stopping_rounds=20,\n",
    "                verbose_eval=5)\n",
    "\n",
    "end = time.time()\n",
    "print('Execution time:', np.round(end - start, 1), 'seconds')"
   ]
  },
  {
   "cell_type": "code",
   "execution_count": 90,
   "metadata": {},
   "outputs": [
    {
     "data": {
      "text/plain": [
       "0.744932847418283"
      ]
     },
     "execution_count": 90,
     "metadata": {},
     "output_type": "execute_result"
    }
   ],
   "source": [
    "# Evaluation of early stopping best model on validation set\n",
    "y_score = gbm.predict(X_val, num_iteration=gbm.best_iteration)  # outputs continuous score\n",
    "roc_auc_score(y_val, y_score)"
   ]
  },
  {
   "cell_type": "code",
   "execution_count": 20,
   "metadata": {},
   "outputs": [
    {
     "data": {
      "text/plain": [
       "{'auc-mean': [0.707965273741698,\n",
       "  0.7132062081864082,\n",
       "  0.7175145246041219,\n",
       "  0.7201859714305676,\n",
       "  0.7219206227752515,\n",
       "  0.7246370368066001,\n",
       "  0.7260307805186594,\n",
       "  0.72745827958041,\n",
       "  0.7290081908087878,\n",
       "  0.7302142710633293],\n",
       " 'auc-stdv': [0.0034606242499253355,\n",
       "  0.004106813522897233,\n",
       "  0.0039085737919445735,\n",
       "  0.003241465580349089,\n",
       "  0.0033840200741139296,\n",
       "  0.0034428273371445665,\n",
       "  0.003622890868278302,\n",
       "  0.0034761383850452463,\n",
       "  0.0032639349121020215,\n",
       "  0.0032887573943964714]}"
      ]
     },
     "execution_count": 20,
     "metadata": {},
     "output_type": "execute_result"
    }
   ],
   "source": [
    "# Cross validated performance of lgb boosting rounds\n",
    "lgb.cv(param, lgb_train, num_boost_round=10, nfold=5)"
   ]
  },
  {
   "cell_type": "markdown",
   "metadata": {},
   "source": [
    "## Examine output"
   ]
  },
  {
   "cell_type": "code",
   "execution_count": 77,
   "metadata": {},
   "outputs": [
    {
     "name": "stdout",
     "output_type": "stream",
     "text": [
      "Plot feature importances...\n"
     ]
    },
    {
     "data": {
      "image/png": "[encoded data removed]",
      "text/plain": [
       "<matplotlib.figure.Figure at 0x7f445af252b0>"
      ]
     },
     "metadata": {},
     "output_type": "display_data"
    }
   ],
   "source": [
    "print('Plot feature importances...')\n",
    "lgb.plot_importance(gbm, max_num_features=10)\n",
    "plt.show()"
   ]
  }
 ],
 "metadata": {
  "kernelspec": {
   "display_name": "Python [conda env:anaconda3]",
   "language": "python",
   "name": "conda-env-anaconda3-py"
  },
  "language_info": {
   "codemirror_mode": {
    "name": "ipython",
    "version": 3
   },
   "file_extension": ".py",
   "mimetype": "text/x-python",
   "name": "python",
   "nbconvert_exporter": "python",
   "pygments_lexer": "ipython3",
   "version": "3.6.3"
  }
 },
 "nbformat": 4,
 "nbformat_minor": 2
}
