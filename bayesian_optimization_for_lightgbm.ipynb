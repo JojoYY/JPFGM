{
 "cells": [
  {
   "cell_type": "markdown",
   "metadata": {},
   "source": [
    "# Bayesian optimization using Skopt API (GridSearchCV replacement)\n",
    "\n",
    "https://721-54340642-gh.circle-artifacts.com/0/tmp/circle-artifacts.kdXLWjd/api/bayessearchcv.html\n",
    "\n",
    "## Before you continue, you install skopt using following command \n",
    "\n",
    "pip install scikit-optimize\n"
   ]
  },
  {
   "cell_type": "code",
   "execution_count": null,
   "metadata": {},
   "outputs": [],
   "source": [
    "from skopt import BayesSearchCV\n",
    "from sklearn.model_selection import train_test_split\n",
    "from sklearn.model_selection import StratifiedKFold\n",
    "import lightgbm as lgb"
   ]
  },
  {
   "cell_type": "code",
   "execution_count": null,
   "metadata": {},
   "outputs": [],
   "source": [
    "#this part is generic but essentially only your training set is used here (not the test set)\n",
    "\n",
    "# Extract the labels for training\n",
    "y = sub_train['TARGET']\n",
    "    \n",
    "# Remove the ids and target\n",
    "X = sub_train.drop(columns = ['TARGET'])"
   ]
  },
  {
   "cell_type": "code",
   "execution_count": null,
   "metadata": {},
   "outputs": [],
   "source": [
    "# parameters for BayOpt\n",
    "n_iterations = 15    # number if iterations = # of different models to try (try more, the default is 250ish)"
   ]
  },
  {
   "cell_type": "code",
   "execution_count": null,
   "metadata": {},
   "outputs": [],
   "source": [
    "bayes_opt = BayesSearchCV(\n",
    "    estimator = lgb.LGBMClassifier(\n",
    "        objective='binary',\n",
    "        metric='auc',\n",
    "        n_estimators=100,  # hardcoded to save cpu time and we know that it gives good results (try with 100 first then 10000) \n",
    "        n_jobs=-1,           # specify number of cores to use for parallelization\n",
    "        verbose=0,\n",
    "        \n",
    "    ),  \n",
    "    \n",
    "    n_jobs = -1,   \n",
    "    n_iter = n_iterations,   \n",
    "    verbose = 0,\n",
    "    refit = True,      #Refit the best estimator with the entire dataset\n",
    "    random_state = 27,\n",
    "   \n",
    "    search_spaces = {\n",
    "        'learning_rate': (0.01, 0.1, 'log-uniform'),\n",
    "        'num_leaves': (1, 50),      \n",
    "        'max_depth': (0, 10),\n",
    "        'min_child_samples': (0, 50),\n",
    "        'max_bin': (100, 1000),\n",
    "        'subsample': (0.01, 1.0, 'uniform'),\n",
    "        'subsample_freq': (0, 10),\n",
    "        'colsample_bytree': (0.01, 1.0, 'uniform'),\n",
    "        'min_child_weight': (30, 50),\n",
    "        'reg_lambda': (1e-9, 1000, 'log-uniform'),\n",
    "        'reg_alpha': (1e-9, 1.0, 'log-uniform'),\n",
    "        'scale_pos_weight': (1e-6, 100, 'log-uniform'),\n",
    "    },    \n",
    "    scoring = 'roc_auc',\n",
    "    cv = StratifiedKFold(\n",
    "        n_splits=5,\n",
    "        shuffle=True,\n",
    "        random_state=27\n",
    "    ),\n",
    ")\n",
    "\n",
    "def status(optim_result):   \n",
    "    # Get all the tested models\n",
    "    all_models = pd.DataFrame(bayes_cv_tuner.cv_results_)    \n",
    "    \n",
    "    # Get the best parameters to display   \n",
    "    best_params = pd.Series(bayes_opt.best_params_)\n",
    "    print('Model #{}\\nBest AUC: {}\\nBest params: {}\\n'.format(len(all_models),\n",
    "                                                                  np.round(bayes_opt.best_score_, 4),\n",
    "                                                                  bayes_opt.best_params_\n",
    "    ))\n",
    "    \n",
    "    # Save all model results to narrow the prior distribution\n",
    "    clf_name = bayes_opt.estimator.__class__.__name__\n",
    "    all_models.to_csv(clf_name+\"_opt_results.csv\")\n",
    "\n",
    "# Fit the model\n",
    "result = bayes_opt.fit(X.values, y.values, callback=status)"
   ]
  },
  {
   "cell_type": "code",
   "execution_count": null,
   "metadata": {},
   "outputs": [],
   "source": []
  },
  {
   "cell_type": "code",
   "execution_count": null,
   "metadata": {},
   "outputs": [],
   "source": []
  },
  {
   "cell_type": "code",
   "execution_count": null,
   "metadata": {},
   "outputs": [],
   "source": []
  },
  {
   "cell_type": "code",
   "execution_count": null,
   "metadata": {},
   "outputs": [],
   "source": []
  },
  {
   "cell_type": "code",
   "execution_count": null,
   "metadata": {},
   "outputs": [],
   "source": []
  },
  {
   "cell_type": "code",
   "execution_count": null,
   "metadata": {},
   "outputs": [],
   "source": []
  },
  {
   "cell_type": "code",
   "execution_count": null,
   "metadata": {},
   "outputs": [],
   "source": []
  }
 ],
 "metadata": {
  "kernelspec": {
   "display_name": "Python 3",
   "language": "python",
   "name": "python3"
  },
  "language_info": {
   "codemirror_mode": {
    "name": "ipython",
    "version": 3
   },
   "file_extension": ".py",
   "mimetype": "text/x-python",
   "name": "python",
   "nbconvert_exporter": "python",
   "pygments_lexer": "ipython3",
   "version": "3.6.5"
  }
 },
 "nbformat": 4,
 "nbformat_minor": 2
}
